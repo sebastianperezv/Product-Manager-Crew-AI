{
 "cells": [
  {
   "cell_type": "code",
   "execution_count": null,
   "metadata": {
    "colab": {
     "base_uri": "https://localhost:8080/"
    },
    "executionInfo": {
     "elapsed": 7,
     "status": "ok",
     "timestamp": 1754575621064,
     "user": {
      "displayName": "Sebastian Perez",
      "userId": "05076230752993245420"
     },
     "user_tz": 240
    },
    "id": "5zelHKkYszlC",
    "outputId": "d54668bb-7bfb-4294-c962-3d6bd4e90cdf"
   },
   "outputs": [
    {
     "name": "stdout",
     "output_type": "stream",
     "text": [
      "/content/drive/MyDrive/ZTM/NotebookLM\n"
     ]
    }
   ],
   "source": [
    "%cd /content/drive/MyDrive/"
   ]
  },
  {
   "cell_type": "markdown",
   "metadata": {
    "id": "tU_O0-67pcCK"
   },
   "source": [
    "# AI Product Manager Agent with CrewAI\n",
    "\n",
    "This is a Crew about a Product Manger. The AI Agents would tell us what we could or should do, and also build everything around the Product Managment wich is building user stories, advertising the most important ones.\n",
    "\n",
    "*   **AI Agent** that describes the image\n",
    "*   **AI Agent** that makes improvement Suggestions (Designer)\n",
    "* **AI Agent** (Product Manager) that creates user stories and prioritizes them\n",
    "\n",
    "To process the image we will use **VisionTool()**"
   ]
  },
  {
   "cell_type": "code",
   "execution_count": 56,
   "metadata": {
    "executionInfo": {
     "elapsed": 556,
     "status": "ok",
     "timestamp": 1754575622653,
     "user": {
      "displayName": "Sebastian Perez",
      "userId": "05076230752993245420"
     },
     "user_tz": 240
    },
    "id": "gJxXQhDboBk7"
   },
   "outputs": [],
   "source": [
    "from google.colab import userdata\n",
    "api_key = userdata.get('NotebookLM')"
   ]
  },
  {
   "cell_type": "code",
   "execution_count": 57,
   "metadata": {
    "colab": {
     "base_uri": "https://localhost:8080/"
    },
    "collapsed": true,
    "executionInfo": {
     "elapsed": 12734,
     "status": "ok",
     "timestamp": 1754575635553,
     "user": {
      "displayName": "Sebastian Perez",
      "userId": "05076230752993245420"
     },
     "user_tz": 240
    },
    "id": "y88fwUwyrUpM",
    "outputId": "6721c99d-0039-4196-ee13-c99b11c25994"
   },
   "outputs": [
    {
     "name": "stdout",
     "output_type": "stream",
     "text": [
      "Requirement already satisfied: crewai[tools] in /usr/local/lib/python3.11/dist-packages (0.157.0)\n",
      "Requirement already satisfied: appdirs>=1.4.4 in /usr/local/lib/python3.11/dist-packages (from crewai[tools]) (1.4.4)\n",
      "Requirement already satisfied: blinker>=1.9.0 in /usr/local/lib/python3.11/dist-packages (from crewai[tools]) (1.9.0)\n",
      "Requirement already satisfied: chromadb>=0.5.23 in /usr/local/lib/python3.11/dist-packages (from crewai[tools]) (0.5.23)\n",
      "Requirement already satisfied: click>=8.1.7 in /usr/local/lib/python3.11/dist-packages (from crewai[tools]) (8.2.1)\n",
      "Requirement already satisfied: instructor>=1.3.3 in /usr/local/lib/python3.11/dist-packages (from crewai[tools]) (1.10.0)\n",
      "Requirement already satisfied: json-repair==0.25.2 in /usr/local/lib/python3.11/dist-packages (from crewai[tools]) (0.25.2)\n",
      "Requirement already satisfied: json5>=0.10.0 in /usr/local/lib/python3.11/dist-packages (from crewai[tools]) (0.12.0)\n",
      "Requirement already satisfied: jsonref>=1.1.0 in /usr/local/lib/python3.11/dist-packages (from crewai[tools]) (1.1.0)\n",
      "Requirement already satisfied: litellm==1.74.9 in /usr/local/lib/python3.11/dist-packages (from crewai[tools]) (1.74.9)\n",
      "Requirement already satisfied: onnxruntime==1.22.0 in /usr/local/lib/python3.11/dist-packages (from crewai[tools]) (1.22.0)\n",
      "Requirement already satisfied: openai>=1.13.3 in /usr/local/lib/python3.11/dist-packages (from crewai[tools]) (1.98.0)\n",
      "Requirement already satisfied: openpyxl>=3.1.5 in /usr/local/lib/python3.11/dist-packages (from crewai[tools]) (3.1.5)\n",
      "Requirement already satisfied: opentelemetry-api>=1.30.0 in /usr/local/lib/python3.11/dist-packages (from crewai[tools]) (1.36.0)\n",
      "Requirement already satisfied: opentelemetry-exporter-otlp-proto-http>=1.30.0 in /usr/local/lib/python3.11/dist-packages (from crewai[tools]) (1.36.0)\n",
      "Requirement already satisfied: opentelemetry-sdk>=1.30.0 in /usr/local/lib/python3.11/dist-packages (from crewai[tools]) (1.36.0)\n",
      "Requirement already satisfied: pdfplumber>=0.11.4 in /usr/local/lib/python3.11/dist-packages (from crewai[tools]) (0.11.7)\n",
      "Requirement already satisfied: portalocker==2.7.0 in /usr/local/lib/python3.11/dist-packages (from crewai[tools]) (2.7.0)\n",
      "Requirement already satisfied: pydantic>=2.4.2 in /usr/local/lib/python3.11/dist-packages (from crewai[tools]) (2.11.7)\n",
      "Requirement already satisfied: pyjwt>=2.9.0 in /usr/local/lib/python3.11/dist-packages (from crewai[tools]) (2.10.1)\n",
      "Requirement already satisfied: python-dotenv>=1.0.0 in /usr/local/lib/python3.11/dist-packages (from crewai[tools]) (1.1.1)\n",
      "Requirement already satisfied: pyvis>=0.3.2 in /usr/local/lib/python3.11/dist-packages (from crewai[tools]) (0.3.2)\n",
      "Requirement already satisfied: regex>=2024.9.11 in /usr/local/lib/python3.11/dist-packages (from crewai[tools]) (2024.11.6)\n",
      "Requirement already satisfied: tokenizers>=0.20.3 in /usr/local/lib/python3.11/dist-packages (from crewai[tools]) (0.20.3)\n",
      "Requirement already satisfied: tomli-w>=1.1.0 in /usr/local/lib/python3.11/dist-packages (from crewai[tools]) (1.2.0)\n",
      "Requirement already satisfied: tomli>=2.0.2 in /usr/local/lib/python3.11/dist-packages (from crewai[tools]) (2.2.1)\n",
      "Requirement already satisfied: uv>=0.4.25 in /usr/local/lib/python3.11/dist-packages (from crewai[tools]) (0.8.5)\n",
      "Requirement already satisfied: crewai-tools~=0.60.0 in /usr/local/lib/python3.11/dist-packages (from crewai[tools]) (0.60.0)\n",
      "Requirement already satisfied: aiohttp>=3.10 in /usr/local/lib/python3.11/dist-packages (from litellm==1.74.9->crewai[tools]) (3.12.15)\n",
      "Requirement already satisfied: httpx>=0.23.0 in /usr/local/lib/python3.11/dist-packages (from litellm==1.74.9->crewai[tools]) (0.28.1)\n",
      "Requirement already satisfied: importlib-metadata>=6.8.0 in /usr/local/lib/python3.11/dist-packages (from litellm==1.74.9->crewai[tools]) (8.7.0)\n",
      "Requirement already satisfied: jinja2<4.0.0,>=3.1.2 in /usr/local/lib/python3.11/dist-packages (from litellm==1.74.9->crewai[tools]) (3.1.6)\n",
      "Requirement already satisfied: jsonschema<5.0.0,>=4.22.0 in /usr/local/lib/python3.11/dist-packages (from litellm==1.74.9->crewai[tools]) (4.25.0)\n",
      "Requirement already satisfied: tiktoken>=0.7.0 in /usr/local/lib/python3.11/dist-packages (from litellm==1.74.9->crewai[tools]) (0.9.0)\n",
      "Requirement already satisfied: coloredlogs in /usr/local/lib/python3.11/dist-packages (from onnxruntime==1.22.0->crewai[tools]) (15.0.1)\n",
      "Requirement already satisfied: flatbuffers in /usr/local/lib/python3.11/dist-packages (from onnxruntime==1.22.0->crewai[tools]) (25.2.10)\n",
      "Requirement already satisfied: numpy>=1.21.6 in /usr/local/lib/python3.11/dist-packages (from onnxruntime==1.22.0->crewai[tools]) (2.0.2)\n",
      "Requirement already satisfied: packaging in /usr/local/lib/python3.11/dist-packages (from onnxruntime==1.22.0->crewai[tools]) (25.0)\n",
      "Requirement already satisfied: protobuf in /usr/local/lib/python3.11/dist-packages (from onnxruntime==1.22.0->crewai[tools]) (5.29.5)\n",
      "Requirement already satisfied: sympy in /usr/local/lib/python3.11/dist-packages (from onnxruntime==1.22.0->crewai[tools]) (1.13.1)\n",
      "Requirement already satisfied: build>=1.0.3 in /usr/local/lib/python3.11/dist-packages (from chromadb>=0.5.23->crewai[tools]) (1.3.0)\n",
      "Requirement already satisfied: chroma-hnswlib==0.7.6 in /usr/local/lib/python3.11/dist-packages (from chromadb>=0.5.23->crewai[tools]) (0.7.6)\n",
      "Requirement already satisfied: fastapi>=0.95.2 in /usr/local/lib/python3.11/dist-packages (from chromadb>=0.5.23->crewai[tools]) (0.116.1)\n",
      "Requirement already satisfied: uvicorn>=0.18.3 in /usr/local/lib/python3.11/dist-packages (from uvicorn[standard]>=0.18.3->chromadb>=0.5.23->crewai[tools]) (0.35.0)\n",
      "Requirement already satisfied: posthog>=2.4.0 in /usr/local/lib/python3.11/dist-packages (from chromadb>=0.5.23->crewai[tools]) (3.25.0)\n",
      "Requirement already satisfied: typing_extensions>=4.5.0 in /usr/local/lib/python3.11/dist-packages (from chromadb>=0.5.23->crewai[tools]) (4.14.1)\n",
      "Requirement already satisfied: opentelemetry-exporter-otlp-proto-grpc>=1.2.0 in /usr/local/lib/python3.11/dist-packages (from chromadb>=0.5.23->crewai[tools]) (1.36.0)\n",
      "Requirement already satisfied: opentelemetry-instrumentation-fastapi>=0.41b0 in /usr/local/lib/python3.11/dist-packages (from chromadb>=0.5.23->crewai[tools]) (0.57b0)\n",
      "Requirement already satisfied: pypika>=0.48.9 in /usr/local/lib/python3.11/dist-packages (from chromadb>=0.5.23->crewai[tools]) (0.48.9)\n",
      "Requirement already satisfied: tqdm>=4.65.0 in /usr/local/lib/python3.11/dist-packages (from chromadb>=0.5.23->crewai[tools]) (4.67.1)\n",
      "Requirement already satisfied: overrides>=7.3.1 in /usr/local/lib/python3.11/dist-packages (from chromadb>=0.5.23->crewai[tools]) (7.7.0)\n",
      "Requirement already satisfied: importlib-resources in /usr/local/lib/python3.11/dist-packages (from chromadb>=0.5.23->crewai[tools]) (6.5.2)\n",
      "Requirement already satisfied: grpcio>=1.58.0 in /usr/local/lib/python3.11/dist-packages (from chromadb>=0.5.23->crewai[tools]) (1.74.0)\n",
      "Requirement already satisfied: bcrypt>=4.0.1 in /usr/local/lib/python3.11/dist-packages (from chromadb>=0.5.23->crewai[tools]) (4.3.0)\n",
      "Requirement already satisfied: typer>=0.9.0 in /usr/local/lib/python3.11/dist-packages (from chromadb>=0.5.23->crewai[tools]) (0.16.0)\n",
      "Requirement already satisfied: kubernetes>=28.1.0 in /usr/local/lib/python3.11/dist-packages (from chromadb>=0.5.23->crewai[tools]) (33.1.0)\n",
      "Requirement already satisfied: tenacity>=8.2.3 in /usr/local/lib/python3.11/dist-packages (from chromadb>=0.5.23->crewai[tools]) (8.5.0)\n",
      "Requirement already satisfied: PyYAML>=6.0.0 in /usr/local/lib/python3.11/dist-packages (from chromadb>=0.5.23->crewai[tools]) (6.0.2)\n",
      "Requirement already satisfied: mmh3>=4.0.1 in /usr/local/lib/python3.11/dist-packages (from chromadb>=0.5.23->crewai[tools]) (5.2.0)\n",
      "Requirement already satisfied: orjson>=3.9.12 in /usr/local/lib/python3.11/dist-packages (from chromadb>=0.5.23->crewai[tools]) (3.11.1)\n",
      "Requirement already satisfied: rich>=10.11.0 in /usr/local/lib/python3.11/dist-packages (from chromadb>=0.5.23->crewai[tools]) (13.9.4)\n",
      "Requirement already satisfied: docker>=7.1.0 in /usr/local/lib/python3.11/dist-packages (from crewai-tools~=0.60.0->crewai[tools]) (7.1.0)\n",
      "Requirement already satisfied: embedchain>=0.1.114 in /usr/local/lib/python3.11/dist-packages (from crewai-tools~=0.60.0->crewai[tools]) (0.1.128)\n",
      "Requirement already satisfied: lancedb>=0.5.4 in /usr/local/lib/python3.11/dist-packages (from crewai-tools~=0.60.0->crewai[tools]) (0.24.2)\n",
      "Requirement already satisfied: pyright>=1.1.350 in /usr/local/lib/python3.11/dist-packages (from crewai-tools~=0.60.0->crewai[tools]) (1.1.403)\n",
      "Requirement already satisfied: pytube>=15.0.0 in /usr/local/lib/python3.11/dist-packages (from crewai-tools~=0.60.0->crewai[tools]) (15.0.0)\n",
      "Requirement already satisfied: requests>=2.31.0 in /usr/local/lib/python3.11/dist-packages (from crewai-tools~=0.60.0->crewai[tools]) (2.32.3)\n",
      "Requirement already satisfied: stagehand>=0.4.1 in /usr/local/lib/python3.11/dist-packages (from crewai-tools~=0.60.0->crewai[tools]) (0.5.0)\n",
      "Requirement already satisfied: diskcache>=5.6.3 in /usr/local/lib/python3.11/dist-packages (from instructor>=1.3.3->crewai[tools]) (5.6.3)\n",
      "Requirement already satisfied: docstring-parser<1.0,>=0.16 in /usr/local/lib/python3.11/dist-packages (from instructor>=1.3.3->crewai[tools]) (0.17.0)\n",
      "Requirement already satisfied: jiter<0.11,>=0.6.1 in /usr/local/lib/python3.11/dist-packages (from instructor>=1.3.3->crewai[tools]) (0.10.0)\n",
      "Requirement already satisfied: pydantic-core<3.0.0,>=2.18.0 in /usr/local/lib/python3.11/dist-packages (from instructor>=1.3.3->crewai[tools]) (2.33.2)\n",
      "Requirement already satisfied: anyio<5,>=3.5.0 in /usr/local/lib/python3.11/dist-packages (from openai>=1.13.3->crewai[tools]) (4.9.0)\n",
      "Requirement already satisfied: distro<2,>=1.7.0 in /usr/local/lib/python3.11/dist-packages (from openai>=1.13.3->crewai[tools]) (1.9.0)\n",
      "Requirement already satisfied: sniffio in /usr/local/lib/python3.11/dist-packages (from openai>=1.13.3->crewai[tools]) (1.3.1)\n",
      "Requirement already satisfied: et-xmlfile in /usr/local/lib/python3.11/dist-packages (from openpyxl>=3.1.5->crewai[tools]) (2.0.0)\n",
      "Requirement already satisfied: googleapis-common-protos~=1.52 in /usr/local/lib/python3.11/dist-packages (from opentelemetry-exporter-otlp-proto-http>=1.30.0->crewai[tools]) (1.70.0)\n",
      "Requirement already satisfied: opentelemetry-exporter-otlp-proto-common==1.36.0 in /usr/local/lib/python3.11/dist-packages (from opentelemetry-exporter-otlp-proto-http>=1.30.0->crewai[tools]) (1.36.0)\n",
      "Requirement already satisfied: opentelemetry-proto==1.36.0 in /usr/local/lib/python3.11/dist-packages (from opentelemetry-exporter-otlp-proto-http>=1.30.0->crewai[tools]) (1.36.0)\n",
      "Requirement already satisfied: opentelemetry-semantic-conventions==0.57b0 in /usr/local/lib/python3.11/dist-packages (from opentelemetry-sdk>=1.30.0->crewai[tools]) (0.57b0)\n",
      "Requirement already satisfied: pdfminer.six==20250506 in /usr/local/lib/python3.11/dist-packages (from pdfplumber>=0.11.4->crewai[tools]) (20250506)\n",
      "Requirement already satisfied: Pillow>=9.1 in /usr/local/lib/python3.11/dist-packages (from pdfplumber>=0.11.4->crewai[tools]) (11.3.0)\n",
      "Requirement already satisfied: pypdfium2>=4.18.0 in /usr/local/lib/python3.11/dist-packages (from pdfplumber>=0.11.4->crewai[tools]) (4.30.0)\n",
      "Requirement already satisfied: charset-normalizer>=2.0.0 in /usr/local/lib/python3.11/dist-packages (from pdfminer.six==20250506->pdfplumber>=0.11.4->crewai[tools]) (3.4.2)\n",
      "Requirement already satisfied: cryptography>=36.0.0 in /usr/local/lib/python3.11/dist-packages (from pdfminer.six==20250506->pdfplumber>=0.11.4->crewai[tools]) (43.0.3)\n",
      "Requirement already satisfied: annotated-types>=0.6.0 in /usr/local/lib/python3.11/dist-packages (from pydantic>=2.4.2->crewai[tools]) (0.7.0)\n",
      "Requirement already satisfied: typing-inspection>=0.4.0 in /usr/local/lib/python3.11/dist-packages (from pydantic>=2.4.2->crewai[tools]) (0.4.1)\n",
      "Requirement already satisfied: ipython>=5.3.0 in /usr/local/lib/python3.11/dist-packages (from pyvis>=0.3.2->crewai[tools]) (7.34.0)\n",
      "Requirement already satisfied: jsonpickle>=1.4.1 in /usr/local/lib/python3.11/dist-packages (from pyvis>=0.3.2->crewai[tools]) (4.1.1)\n",
      "Requirement already satisfied: networkx>=1.11 in /usr/local/lib/python3.11/dist-packages (from pyvis>=0.3.2->crewai[tools]) (3.5)\n",
      "Requirement already satisfied: huggingface-hub<1.0,>=0.16.4 in /usr/local/lib/python3.11/dist-packages (from tokenizers>=0.20.3->crewai[tools]) (0.34.3)\n",
      "Requirement already satisfied: aiohappyeyeballs>=2.5.0 in /usr/local/lib/python3.11/dist-packages (from aiohttp>=3.10->litellm==1.74.9->crewai[tools]) (2.6.1)\n",
      "Requirement already satisfied: aiosignal>=1.4.0 in /usr/local/lib/python3.11/dist-packages (from aiohttp>=3.10->litellm==1.74.9->crewai[tools]) (1.4.0)\n",
      "Requirement already satisfied: attrs>=17.3.0 in /usr/local/lib/python3.11/dist-packages (from aiohttp>=3.10->litellm==1.74.9->crewai[tools]) (25.3.0)\n",
      "Requirement already satisfied: frozenlist>=1.1.1 in /usr/local/lib/python3.11/dist-packages (from aiohttp>=3.10->litellm==1.74.9->crewai[tools]) (1.7.0)\n",
      "Requirement already satisfied: multidict<7.0,>=4.5 in /usr/local/lib/python3.11/dist-packages (from aiohttp>=3.10->litellm==1.74.9->crewai[tools]) (6.6.3)\n",
      "Requirement already satisfied: propcache>=0.2.0 in /usr/local/lib/python3.11/dist-packages (from aiohttp>=3.10->litellm==1.74.9->crewai[tools]) (0.3.2)\n",
      "Requirement already satisfied: yarl<2.0,>=1.17.0 in /usr/local/lib/python3.11/dist-packages (from aiohttp>=3.10->litellm==1.74.9->crewai[tools]) (1.20.1)\n",
      "Requirement already satisfied: idna>=2.8 in /usr/local/lib/python3.11/dist-packages (from anyio<5,>=3.5.0->openai>=1.13.3->crewai[tools]) (3.10)\n",
      "Requirement already satisfied: pyproject_hooks in /usr/local/lib/python3.11/dist-packages (from build>=1.0.3->chromadb>=0.5.23->crewai[tools]) (1.2.0)\n",
      "Requirement already satisfied: urllib3>=1.26.0 in /usr/local/lib/python3.11/dist-packages (from docker>=7.1.0->crewai-tools~=0.60.0->crewai[tools]) (2.5.0)\n",
      "Requirement already satisfied: alembic<2.0.0,>=1.13.1 in /usr/local/lib/python3.11/dist-packages (from embedchain>=0.1.114->crewai-tools~=0.60.0->crewai[tools]) (1.16.4)\n",
      "Requirement already satisfied: beautifulsoup4<5.0.0,>=4.12.2 in /usr/local/lib/python3.11/dist-packages (from embedchain>=0.1.114->crewai-tools~=0.60.0->crewai[tools]) (4.13.4)\n",
      "Requirement already satisfied: gptcache<0.2.0,>=0.1.43 in /usr/local/lib/python3.11/dist-packages (from embedchain>=0.1.114->crewai-tools~=0.60.0->crewai[tools]) (0.1.44)\n",
      "Requirement already satisfied: langchain<0.4.0,>=0.3.1 in /usr/local/lib/python3.11/dist-packages (from embedchain>=0.1.114->crewai-tools~=0.60.0->crewai[tools]) (0.3.27)\n",
      "Requirement already satisfied: langchain-cohere<0.4.0,>=0.3.0 in /usr/local/lib/python3.11/dist-packages (from embedchain>=0.1.114->crewai-tools~=0.60.0->crewai[tools]) (0.3.5)\n",
      "Requirement already satisfied: langchain-community<0.4.0,>=0.3.1 in /usr/local/lib/python3.11/dist-packages (from embedchain>=0.1.114->crewai-tools~=0.60.0->crewai[tools]) (0.3.27)\n",
      "Requirement already satisfied: langchain-openai<0.3.0,>=0.2.1 in /usr/local/lib/python3.11/dist-packages (from embedchain>=0.1.114->crewai-tools~=0.60.0->crewai[tools]) (0.2.14)\n",
      "Requirement already satisfied: langsmith<0.4.0,>=0.3.18 in /usr/local/lib/python3.11/dist-packages (from embedchain>=0.1.114->crewai-tools~=0.60.0->crewai[tools]) (0.3.45)\n",
      "Requirement already satisfied: mem0ai<0.2.0,>=0.1.54 in /usr/local/lib/python3.11/dist-packages (from embedchain>=0.1.114->crewai-tools~=0.60.0->crewai[tools]) (0.1.115)\n",
      "Requirement already satisfied: pypdf<6.0.0,>=5.0.0 in /usr/local/lib/python3.11/dist-packages (from embedchain>=0.1.114->crewai-tools~=0.60.0->crewai[tools]) (5.9.0)\n",
      "Requirement already satisfied: pysbd<0.4.0,>=0.3.4 in /usr/local/lib/python3.11/dist-packages (from embedchain>=0.1.114->crewai-tools~=0.60.0->crewai[tools]) (0.3.4)\n",
      "Requirement already satisfied: schema<0.8.0,>=0.7.5 in /usr/local/lib/python3.11/dist-packages (from embedchain>=0.1.114->crewai-tools~=0.60.0->crewai[tools]) (0.7.7)\n",
      "Requirement already satisfied: sqlalchemy<3.0.0,>=2.0.27 in /usr/local/lib/python3.11/dist-packages (from embedchain>=0.1.114->crewai-tools~=0.60.0->crewai[tools]) (2.0.42)\n",
      "Requirement already satisfied: starlette<0.48.0,>=0.40.0 in /usr/local/lib/python3.11/dist-packages (from fastapi>=0.95.2->chromadb>=0.5.23->crewai[tools]) (0.47.2)\n",
      "Requirement already satisfied: certifi in /usr/local/lib/python3.11/dist-packages (from httpx>=0.23.0->litellm==1.74.9->crewai[tools]) (2025.7.14)\n",
      "Requirement already satisfied: httpcore==1.* in /usr/local/lib/python3.11/dist-packages (from httpx>=0.23.0->litellm==1.74.9->crewai[tools]) (1.0.9)\n",
      "Requirement already satisfied: h11>=0.16 in /usr/local/lib/python3.11/dist-packages (from httpcore==1.*->httpx>=0.23.0->litellm==1.74.9->crewai[tools]) (0.16.0)\n",
      "Requirement already satisfied: filelock in /usr/local/lib/python3.11/dist-packages (from huggingface-hub<1.0,>=0.16.4->tokenizers>=0.20.3->crewai[tools]) (3.18.0)\n",
      "Requirement already satisfied: fsspec>=2023.5.0 in /usr/local/lib/python3.11/dist-packages (from huggingface-hub<1.0,>=0.16.4->tokenizers>=0.20.3->crewai[tools]) (2025.3.0)\n",
      "Requirement already satisfied: hf-xet<2.0.0,>=1.1.3 in /usr/local/lib/python3.11/dist-packages (from huggingface-hub<1.0,>=0.16.4->tokenizers>=0.20.3->crewai[tools]) (1.1.5)\n",
      "Requirement already satisfied: zipp>=3.20 in /usr/local/lib/python3.11/dist-packages (from importlib-metadata>=6.8.0->litellm==1.74.9->crewai[tools]) (3.23.0)\n",
      "Requirement already satisfied: setuptools>=18.5 in /usr/local/lib/python3.11/dist-packages (from ipython>=5.3.0->pyvis>=0.3.2->crewai[tools]) (75.2.0)\n",
      "Requirement already satisfied: jedi>=0.16 in /usr/local/lib/python3.11/dist-packages (from ipython>=5.3.0->pyvis>=0.3.2->crewai[tools]) (0.19.2)\n",
      "Requirement already satisfied: decorator in /usr/local/lib/python3.11/dist-packages (from ipython>=5.3.0->pyvis>=0.3.2->crewai[tools]) (4.4.2)\n",
      "Requirement already satisfied: pickleshare in /usr/local/lib/python3.11/dist-packages (from ipython>=5.3.0->pyvis>=0.3.2->crewai[tools]) (0.7.5)\n",
      "Requirement already satisfied: traitlets>=4.2 in /usr/local/lib/python3.11/dist-packages (from ipython>=5.3.0->pyvis>=0.3.2->crewai[tools]) (5.7.1)\n",
      "Requirement already satisfied: prompt-toolkit!=3.0.0,!=3.0.1,<3.1.0,>=2.0.0 in /usr/local/lib/python3.11/dist-packages (from ipython>=5.3.0->pyvis>=0.3.2->crewai[tools]) (3.0.51)\n",
      "Requirement already satisfied: pygments in /usr/local/lib/python3.11/dist-packages (from ipython>=5.3.0->pyvis>=0.3.2->crewai[tools]) (2.19.2)\n",
      "Requirement already satisfied: backcall in /usr/local/lib/python3.11/dist-packages (from ipython>=5.3.0->pyvis>=0.3.2->crewai[tools]) (0.2.0)\n",
      "Requirement already satisfied: matplotlib-inline in /usr/local/lib/python3.11/dist-packages (from ipython>=5.3.0->pyvis>=0.3.2->crewai[tools]) (0.1.7)\n",
      "Requirement already satisfied: pexpect>4.3 in /usr/local/lib/python3.11/dist-packages (from ipython>=5.3.0->pyvis>=0.3.2->crewai[tools]) (4.9.0)\n",
      "Requirement already satisfied: MarkupSafe>=2.0 in /usr/local/lib/python3.11/dist-packages (from jinja2<4.0.0,>=3.1.2->litellm==1.74.9->crewai[tools]) (3.0.2)\n",
      "Requirement already satisfied: jsonschema-specifications>=2023.03.6 in /usr/local/lib/python3.11/dist-packages (from jsonschema<5.0.0,>=4.22.0->litellm==1.74.9->crewai[tools]) (2025.4.1)\n",
      "Requirement already satisfied: referencing>=0.28.4 in /usr/local/lib/python3.11/dist-packages (from jsonschema<5.0.0,>=4.22.0->litellm==1.74.9->crewai[tools]) (0.36.2)\n",
      "Requirement already satisfied: rpds-py>=0.7.1 in /usr/local/lib/python3.11/dist-packages (from jsonschema<5.0.0,>=4.22.0->litellm==1.74.9->crewai[tools]) (0.26.0)\n",
      "Requirement already satisfied: six>=1.9.0 in /usr/local/lib/python3.11/dist-packages (from kubernetes>=28.1.0->chromadb>=0.5.23->crewai[tools]) (1.17.0)\n",
      "Requirement already satisfied: python-dateutil>=2.5.3 in /usr/local/lib/python3.11/dist-packages (from kubernetes>=28.1.0->chromadb>=0.5.23->crewai[tools]) (2.9.0.post0)\n",
      "Requirement already satisfied: google-auth>=1.0.1 in /usr/local/lib/python3.11/dist-packages (from kubernetes>=28.1.0->chromadb>=0.5.23->crewai[tools]) (2.38.0)\n",
      "Requirement already satisfied: websocket-client!=0.40.0,!=0.41.*,!=0.42.*,>=0.32.0 in /usr/local/lib/python3.11/dist-packages (from kubernetes>=28.1.0->chromadb>=0.5.23->crewai[tools]) (1.8.0)\n",
      "Requirement already satisfied: requests-oauthlib in /usr/local/lib/python3.11/dist-packages (from kubernetes>=28.1.0->chromadb>=0.5.23->crewai[tools]) (2.0.0)\n",
      "Requirement already satisfied: oauthlib>=3.2.2 in /usr/local/lib/python3.11/dist-packages (from kubernetes>=28.1.0->chromadb>=0.5.23->crewai[tools]) (3.3.1)\n",
      "Requirement already satisfied: durationpy>=0.7 in /usr/local/lib/python3.11/dist-packages (from kubernetes>=28.1.0->chromadb>=0.5.23->crewai[tools]) (0.10)\n",
      "Requirement already satisfied: deprecation in /usr/local/lib/python3.11/dist-packages (from lancedb>=0.5.4->crewai-tools~=0.60.0->crewai[tools]) (2.1.0)\n",
      "Requirement already satisfied: pyarrow>=16 in /usr/local/lib/python3.11/dist-packages (from lancedb>=0.5.4->crewai-tools~=0.60.0->crewai[tools]) (18.1.0)\n",
      "Requirement already satisfied: opentelemetry-instrumentation-asgi==0.57b0 in /usr/local/lib/python3.11/dist-packages (from opentelemetry-instrumentation-fastapi>=0.41b0->chromadb>=0.5.23->crewai[tools]) (0.57b0)\n",
      "Requirement already satisfied: opentelemetry-instrumentation==0.57b0 in /usr/local/lib/python3.11/dist-packages (from opentelemetry-instrumentation-fastapi>=0.41b0->chromadb>=0.5.23->crewai[tools]) (0.57b0)\n",
      "Requirement already satisfied: opentelemetry-util-http==0.57b0 in /usr/local/lib/python3.11/dist-packages (from opentelemetry-instrumentation-fastapi>=0.41b0->chromadb>=0.5.23->crewai[tools]) (0.57b0)\n",
      "Requirement already satisfied: wrapt<2.0.0,>=1.0.0 in /usr/local/lib/python3.11/dist-packages (from opentelemetry-instrumentation==0.57b0->opentelemetry-instrumentation-fastapi>=0.41b0->chromadb>=0.5.23->crewai[tools]) (1.17.2)\n",
      "Requirement already satisfied: asgiref~=3.0 in /usr/local/lib/python3.11/dist-packages (from opentelemetry-instrumentation-asgi==0.57b0->opentelemetry-instrumentation-fastapi>=0.41b0->chromadb>=0.5.23->crewai[tools]) (3.9.1)\n",
      "Requirement already satisfied: monotonic>=1.5 in /usr/local/lib/python3.11/dist-packages (from posthog>=2.4.0->chromadb>=0.5.23->crewai[tools]) (1.6)\n",
      "Requirement already satisfied: backoff>=1.10.0 in /usr/local/lib/python3.11/dist-packages (from posthog>=2.4.0->chromadb>=0.5.23->crewai[tools]) (2.2.1)\n",
      "Requirement already satisfied: nodeenv>=1.6.0 in /usr/local/lib/python3.11/dist-packages (from pyright>=1.1.350->crewai-tools~=0.60.0->crewai[tools]) (1.9.1)\n",
      "Requirement already satisfied: markdown-it-py>=2.2.0 in /usr/local/lib/python3.11/dist-packages (from rich>=10.11.0->chromadb>=0.5.23->crewai[tools]) (3.0.0)\n",
      "Requirement already satisfied: playwright>=1.42.1 in /usr/local/lib/python3.11/dist-packages (from stagehand>=0.4.1->crewai-tools~=0.60.0->crewai[tools]) (1.54.0)\n",
      "Requirement already satisfied: browserbase>=1.4.0 in /usr/local/lib/python3.11/dist-packages (from stagehand>=0.4.1->crewai-tools~=0.60.0->crewai[tools]) (1.4.0)\n",
      "Requirement already satisfied: anthropic>=0.51.0 in /usr/local/lib/python3.11/dist-packages (from stagehand>=0.4.1->crewai-tools~=0.60.0->crewai[tools]) (0.61.0)\n",
      "Requirement already satisfied: shellingham>=1.3.0 in /usr/local/lib/python3.11/dist-packages (from typer>=0.9.0->chromadb>=0.5.23->crewai[tools]) (1.5.4)\n",
      "Requirement already satisfied: httptools>=0.6.3 in /usr/local/lib/python3.11/dist-packages (from uvicorn[standard]>=0.18.3->chromadb>=0.5.23->crewai[tools]) (0.6.4)\n",
      "Requirement already satisfied: uvloop>=0.15.1 in /usr/local/lib/python3.11/dist-packages (from uvicorn[standard]>=0.18.3->chromadb>=0.5.23->crewai[tools]) (0.21.0)\n",
      "Requirement already satisfied: watchfiles>=0.13 in /usr/local/lib/python3.11/dist-packages (from uvicorn[standard]>=0.18.3->chromadb>=0.5.23->crewai[tools]) (1.1.0)\n",
      "Requirement already satisfied: websockets>=10.4 in /usr/local/lib/python3.11/dist-packages (from uvicorn[standard]>=0.18.3->chromadb>=0.5.23->crewai[tools]) (15.0.1)\n",
      "Requirement already satisfied: humanfriendly>=9.1 in /usr/local/lib/python3.11/dist-packages (from coloredlogs->onnxruntime==1.22.0->crewai[tools]) (10.0)\n",
      "Requirement already satisfied: mpmath<1.4,>=1.1.0 in /usr/local/lib/python3.11/dist-packages (from sympy->onnxruntime==1.22.0->crewai[tools]) (1.3.0)\n",
      "Requirement already satisfied: Mako in /usr/lib/python3/dist-packages (from alembic<2.0.0,>=1.13.1->embedchain>=0.1.114->crewai-tools~=0.60.0->crewai[tools]) (1.1.3)\n",
      "Requirement already satisfied: soupsieve>1.2 in /usr/local/lib/python3.11/dist-packages (from beautifulsoup4<5.0.0,>=4.12.2->embedchain>=0.1.114->crewai-tools~=0.60.0->crewai[tools]) (2.7)\n",
      "Requirement already satisfied: cffi>=1.12 in /usr/local/lib/python3.11/dist-packages (from cryptography>=36.0.0->pdfminer.six==20250506->pdfplumber>=0.11.4->crewai[tools]) (1.17.1)\n",
      "Requirement already satisfied: cachetools<6.0,>=2.0.0 in /usr/local/lib/python3.11/dist-packages (from google-auth>=1.0.1->kubernetes>=28.1.0->chromadb>=0.5.23->crewai[tools]) (5.5.2)\n",
      "Requirement already satisfied: pyasn1-modules>=0.2.1 in /usr/local/lib/python3.11/dist-packages (from google-auth>=1.0.1->kubernetes>=28.1.0->chromadb>=0.5.23->crewai[tools]) (0.4.2)\n",
      "Requirement already satisfied: rsa<5,>=3.1.4 in /usr/local/lib/python3.11/dist-packages (from google-auth>=1.0.1->kubernetes>=28.1.0->chromadb>=0.5.23->crewai[tools]) (4.9.1)\n",
      "Requirement already satisfied: parso<0.9.0,>=0.8.4 in /usr/local/lib/python3.11/dist-packages (from jedi>=0.16->ipython>=5.3.0->pyvis>=0.3.2->crewai[tools]) (0.8.4)\n",
      "Requirement already satisfied: langchain-core<1.0.0,>=0.3.72 in /usr/local/lib/python3.11/dist-packages (from langchain<0.4.0,>=0.3.1->embedchain>=0.1.114->crewai-tools~=0.60.0->crewai[tools]) (0.3.72)\n",
      "Requirement already satisfied: langchain-text-splitters<1.0.0,>=0.3.9 in /usr/local/lib/python3.11/dist-packages (from langchain<0.4.0,>=0.3.1->embedchain>=0.1.114->crewai-tools~=0.60.0->crewai[tools]) (0.3.9)\n",
      "Requirement already satisfied: cohere<6.0,>=5.5.6 in /usr/local/lib/python3.11/dist-packages (from langchain-cohere<0.4.0,>=0.3.0->embedchain>=0.1.114->crewai-tools~=0.60.0->crewai[tools]) (5.16.2)\n",
      "Requirement already satisfied: langchain-experimental<0.4.0,>=0.3.0 in /usr/local/lib/python3.11/dist-packages (from langchain-cohere<0.4.0,>=0.3.0->embedchain>=0.1.114->crewai-tools~=0.60.0->crewai[tools]) (0.3.4)\n",
      "Requirement already satisfied: pandas>=1.4.3 in /usr/local/lib/python3.11/dist-packages (from langchain-cohere<0.4.0,>=0.3.0->embedchain>=0.1.114->crewai-tools~=0.60.0->crewai[tools]) (2.2.2)\n",
      "Requirement already satisfied: tabulate<0.10.0,>=0.9.0 in /usr/local/lib/python3.11/dist-packages (from langchain-cohere<0.4.0,>=0.3.0->embedchain>=0.1.114->crewai-tools~=0.60.0->crewai[tools]) (0.9.0)\n",
      "Requirement already satisfied: dataclasses-json<0.7,>=0.5.7 in /usr/local/lib/python3.11/dist-packages (from langchain-community<0.4.0,>=0.3.1->embedchain>=0.1.114->crewai-tools~=0.60.0->crewai[tools]) (0.6.7)\n",
      "Requirement already satisfied: pydantic-settings<3.0.0,>=2.4.0 in /usr/local/lib/python3.11/dist-packages (from langchain-community<0.4.0,>=0.3.1->embedchain>=0.1.114->crewai-tools~=0.60.0->crewai[tools]) (2.10.1)\n",
      "Requirement already satisfied: httpx-sse<1.0.0,>=0.4.0 in /usr/local/lib/python3.11/dist-packages (from langchain-community<0.4.0,>=0.3.1->embedchain>=0.1.114->crewai-tools~=0.60.0->crewai[tools]) (0.4.0)\n",
      "Requirement already satisfied: requests-toolbelt<2.0.0,>=1.0.0 in /usr/local/lib/python3.11/dist-packages (from langsmith<0.4.0,>=0.3.18->embedchain>=0.1.114->crewai-tools~=0.60.0->crewai[tools]) (1.0.0)\n",
      "Requirement already satisfied: zstandard<0.24.0,>=0.23.0 in /usr/local/lib/python3.11/dist-packages (from langsmith<0.4.0,>=0.3.18->embedchain>=0.1.114->crewai-tools~=0.60.0->crewai[tools]) (0.23.0)\n",
      "Requirement already satisfied: mdurl~=0.1 in /usr/local/lib/python3.11/dist-packages (from markdown-it-py>=2.2.0->rich>=10.11.0->chromadb>=0.5.23->crewai[tools]) (0.1.2)\n",
      "Requirement already satisfied: pytz>=2024.1 in /usr/local/lib/python3.11/dist-packages (from mem0ai<0.2.0,>=0.1.54->embedchain>=0.1.114->crewai-tools~=0.60.0->crewai[tools]) (2025.2)\n",
      "Requirement already satisfied: qdrant-client>=1.9.1 in /usr/local/lib/python3.11/dist-packages (from mem0ai<0.2.0,>=0.1.54->embedchain>=0.1.114->crewai-tools~=0.60.0->crewai[tools]) (1.15.1)\n",
      "Requirement already satisfied: ptyprocess>=0.5 in /usr/local/lib/python3.11/dist-packages (from pexpect>4.3->ipython>=5.3.0->pyvis>=0.3.2->crewai[tools]) (0.7.0)\n",
      "Requirement already satisfied: pyee<14,>=13 in /usr/local/lib/python3.11/dist-packages (from playwright>=1.42.1->stagehand>=0.4.1->crewai-tools~=0.60.0->crewai[tools]) (13.0.0)\n",
      "Requirement already satisfied: greenlet<4.0.0,>=3.1.1 in /usr/local/lib/python3.11/dist-packages (from playwright>=1.42.1->stagehand>=0.4.1->crewai-tools~=0.60.0->crewai[tools]) (3.2.3)\n",
      "Requirement already satisfied: wcwidth in /usr/local/lib/python3.11/dist-packages (from prompt-toolkit!=3.0.0,!=3.0.1,<3.1.0,>=2.0.0->ipython>=5.3.0->pyvis>=0.3.2->crewai[tools]) (0.2.13)\n",
      "Requirement already satisfied: pycparser in /usr/local/lib/python3.11/dist-packages (from cffi>=1.12->cryptography>=36.0.0->pdfminer.six==20250506->pdfplumber>=0.11.4->crewai[tools]) (2.22)\n",
      "Requirement already satisfied: fastavro<2.0.0,>=1.9.4 in /usr/local/lib/python3.11/dist-packages (from cohere<6.0,>=5.5.6->langchain-cohere<0.4.0,>=0.3.0->embedchain>=0.1.114->crewai-tools~=0.60.0->crewai[tools]) (1.12.0)\n",
      "Requirement already satisfied: types-requests<3.0.0,>=2.0.0 in /usr/local/lib/python3.11/dist-packages (from cohere<6.0,>=5.5.6->langchain-cohere<0.4.0,>=0.3.0->embedchain>=0.1.114->crewai-tools~=0.60.0->crewai[tools]) (2.32.4.20250611)\n",
      "Requirement already satisfied: marshmallow<4.0.0,>=3.18.0 in /usr/local/lib/python3.11/dist-packages (from dataclasses-json<0.7,>=0.5.7->langchain-community<0.4.0,>=0.3.1->embedchain>=0.1.114->crewai-tools~=0.60.0->crewai[tools]) (3.26.1)\n",
      "Requirement already satisfied: typing-inspect<1,>=0.4.0 in /usr/local/lib/python3.11/dist-packages (from dataclasses-json<0.7,>=0.5.7->langchain-community<0.4.0,>=0.3.1->embedchain>=0.1.114->crewai-tools~=0.60.0->crewai[tools]) (0.9.0)\n",
      "Requirement already satisfied: jsonpatch<2.0,>=1.33 in /usr/local/lib/python3.11/dist-packages (from langchain-core<1.0.0,>=0.3.72->langchain<0.4.0,>=0.3.1->embedchain>=0.1.114->crewai-tools~=0.60.0->crewai[tools]) (1.33)\n",
      "Requirement already satisfied: tzdata>=2022.7 in /usr/local/lib/python3.11/dist-packages (from pandas>=1.4.3->langchain-cohere<0.4.0,>=0.3.0->embedchain>=0.1.114->crewai-tools~=0.60.0->crewai[tools]) (2025.2)\n",
      "Requirement already satisfied: pyasn1<0.7.0,>=0.6.1 in /usr/local/lib/python3.11/dist-packages (from pyasn1-modules>=0.2.1->google-auth>=1.0.1->kubernetes>=28.1.0->chromadb>=0.5.23->crewai[tools]) (0.6.1)\n",
      "Requirement already satisfied: h2<5,>=3 in /usr/local/lib/python3.11/dist-packages (from httpx[http2]>=0.20.0->qdrant-client>=1.9.1->mem0ai<0.2.0,>=0.1.54->embedchain>=0.1.114->crewai-tools~=0.60.0->crewai[tools]) (4.2.0)\n",
      "Requirement already satisfied: jsonpointer>=1.9 in /usr/local/lib/python3.11/dist-packages (from jsonpatch<2.0,>=1.33->langchain-core<1.0.0,>=0.3.72->langchain<0.4.0,>=0.3.1->embedchain>=0.1.114->crewai-tools~=0.60.0->crewai[tools]) (3.0.0)\n",
      "Requirement already satisfied: mypy-extensions>=0.3.0 in /usr/local/lib/python3.11/dist-packages (from typing-inspect<1,>=0.4.0->dataclasses-json<0.7,>=0.5.7->langchain-community<0.4.0,>=0.3.1->embedchain>=0.1.114->crewai-tools~=0.60.0->crewai[tools]) (1.1.0)\n",
      "Requirement already satisfied: hyperframe<7,>=6.1 in /usr/local/lib/python3.11/dist-packages (from h2<5,>=3->httpx[http2]>=0.20.0->qdrant-client>=1.9.1->mem0ai<0.2.0,>=0.1.54->embedchain>=0.1.114->crewai-tools~=0.60.0->crewai[tools]) (6.1.0)\n",
      "Requirement already satisfied: hpack<5,>=4.1 in /usr/local/lib/python3.11/dist-packages (from h2<5,>=3->httpx[http2]>=0.20.0->qdrant-client>=1.9.1->mem0ai<0.2.0,>=0.1.54->embedchain>=0.1.114->crewai-tools~=0.60.0->crewai[tools]) (4.1.0)\n"
     ]
    }
   ],
   "source": [
    "!pip install 'crewai[tools]'"
   ]
  },
  {
   "cell_type": "code",
   "execution_count": 58,
   "metadata": {
    "colab": {
     "base_uri": "https://localhost:8080/"
    },
    "collapsed": true,
    "executionInfo": {
     "elapsed": 1708,
     "status": "ok",
     "timestamp": 1754575637274,
     "user": {
      "displayName": "Sebastian Perez",
      "userId": "05076230752993245420"
     },
     "user_tz": 240
    },
    "id": "nLuBPr8Rrqhy",
    "outputId": "f994c10c-7d5b-48a4-eb29-2875518a2420"
   },
   "outputs": [
    {
     "name": "stdout",
     "output_type": "stream",
     "text": [
      "absl-py==1.4.0\n",
      "accelerate==1.9.0\n",
      "aiofiles==24.1.0\n",
      "aiohappyeyeballs==2.6.1\n",
      "aiohttp==3.12.15\n",
      "aiosignal==1.4.0\n",
      "alabaster==1.0.0\n",
      "albucore==0.0.24\n",
      "albumentations==2.0.8\n",
      "ale-py==0.11.2\n",
      "alembic==1.16.4\n",
      "altair==5.5.0\n",
      "annotated-types==0.7.0\n",
      "anthropic==0.61.0\n",
      "antlr4-python3-runtime==4.9.3\n",
      "anyio==4.9.0\n",
      "anywidget==0.9.18\n",
      "appdirs==1.4.4\n",
      "argon2-cffi==25.1.0\n",
      "argon2-cffi-bindings==25.1.0\n",
      "array_record==0.7.2\n",
      "arviz==0.22.0\n",
      "asgiref==3.9.1\n",
      "astropy==7.1.0\n",
      "astropy-iers-data==0.2025.7.28.0.41.50\n",
      "astunparse==1.6.3\n",
      "atpublic==5.1\n",
      "attrs==25.3.0\n",
      "audioread==3.0.1\n",
      "autograd==1.8.0\n",
      "babel==2.17.0\n",
      "backcall==0.2.0\n",
      "backoff==2.2.1\n",
      "backports.tarfile==1.2.0\n",
      "bcrypt==4.3.0\n",
      "beautifulsoup4==4.13.4\n",
      "betterproto==2.0.0b6\n",
      "bigframes==2.13.0\n",
      "bigquery-magics==0.10.1\n",
      "bleach==6.2.0\n",
      "blinker==1.9.0\n",
      "blis==1.3.0\n",
      "blobfile==3.0.0\n",
      "blosc2==3.6.1\n",
      "bokeh==3.7.3\n",
      "Bottleneck==1.4.2\n",
      "bqplot==0.12.45\n",
      "branca==0.8.1\n",
      "Brotli==1.1.0\n",
      "browserbase==1.4.0\n",
      "build==1.3.0\n",
      "CacheControl==0.14.3\n",
      "cachetools==5.5.2\n",
      "catalogue==2.0.10\n",
      "certifi==2025.7.14\n",
      "cffi==1.17.1\n",
      "chardet==5.2.0\n",
      "charset-normalizer==3.4.2\n",
      "chex==0.1.90\n",
      "chroma-hnswlib==0.7.6\n",
      "chromadb==0.5.23\n",
      "clarabel==0.11.1\n",
      "click==8.2.1\n",
      "cloudpathlib==0.21.1\n",
      "cloudpickle==3.1.1\n",
      "cmake==3.31.6\n",
      "cmdstanpy==1.2.5\n",
      "cohere==5.16.2\n",
      "colorcet==3.1.0\n",
      "coloredlogs==15.0.1\n",
      "colorlover==0.3.0\n",
      "colour==0.1.5\n",
      "community==1.0.0b1\n",
      "confection==0.1.5\n",
      "cons==0.4.7\n",
      "contourpy==1.3.3\n",
      "cramjam==2.11.0\n",
      "crewai==0.157.0\n",
      "crewai-tools==0.60.0\n",
      "cryptography==43.0.3\n",
      "cuda-python==12.6.2.post1\n",
      "cudf-cu12 @ https://pypi.nvidia.com/cudf-cu12/cudf_cu12-25.6.0-cp311-cp311-manylinux_2_24_x86_64.manylinux_2_28_x86_64.whl\n",
      "cudf-polars-cu12==25.6.0\n",
      "cufflinks==0.17.3\n",
      "cuml-cu12==25.6.0\n",
      "cupy-cuda12x==13.3.0\n",
      "curl_cffi==0.12.0\n",
      "cuvs-cu12==25.6.1\n",
      "cvxopt==1.3.2\n",
      "cvxpy==1.6.7\n",
      "cycler==0.12.1\n",
      "cyipopt==1.5.0\n",
      "cymem==2.0.11\n",
      "Cython==3.0.12\n",
      "dask==2025.5.0\n",
      "dask-cuda==25.6.0\n",
      "dask-cudf-cu12==25.6.0\n",
      "dataclasses-json==0.6.7\n",
      "dataproc-spark-connect==0.8.3\n",
      "datasets==4.0.0\n",
      "db-dtypes==1.4.3\n",
      "dbus-python==1.2.18\n",
      "debugpy==1.8.15\n",
      "decorator==4.4.2\n",
      "defusedxml==0.7.1\n",
      "deprecation==2.1.0\n",
      "diffusers==0.34.0\n",
      "dill==0.3.8\n",
      "diskcache==5.6.3\n",
      "distributed==2025.5.0\n",
      "distributed-ucxx-cu12==0.44.0\n",
      "distro==1.9.0\n",
      "dlib==19.24.6\n",
      "dm-tree==0.1.9\n",
      "docker==7.1.0\n",
      "docstring_parser==0.17.0\n",
      "docutils==0.21.2\n",
      "dopamine_rl==4.1.2\n",
      "duckdb==1.3.2\n",
      "durationpy==0.10\n",
      "earthengine-api==1.5.24\n",
      "easydict==1.13\n",
      "editdistance==0.8.1\n",
      "eerepr==0.1.2\n",
      "einops==0.8.1\n",
      "embedchain==0.1.128\n",
      "en_core_web_sm @ https://github.com/explosion/spacy-models/releases/download/en_core_web_sm-3.8.0/en_core_web_sm-3.8.0-py3-none-any.whl#sha256=1932429db727d4bff3deed6b34cfc05df17794f4a52eeb26cf8928f7c1a0fb85\n",
      "entrypoints==0.4\n",
      "et_xmlfile==2.0.0\n",
      "etils==1.13.0\n",
      "etuples==0.3.10\n",
      "Farama-Notifications==0.0.4\n",
      "fastai==2.7.19\n",
      "fastapi==0.116.1\n",
      "fastavro==1.12.0\n",
      "fastcore==1.7.29\n",
      "fastdownload==0.0.7\n",
      "fastjsonschema==2.21.1\n",
      "fastprogress==1.0.3\n",
      "fastrlock==0.8.3\n",
      "ffmpy==0.6.1\n",
      "filelock==3.18.0\n",
      "firebase-admin==6.9.0\n",
      "Flask==3.1.1\n",
      "flatbuffers==25.2.10\n",
      "flax==0.10.6\n",
      "folium==0.20.0\n",
      "fonttools==4.59.0\n",
      "frozendict==2.4.6\n",
      "frozenlist==1.7.0\n",
      "fsspec==2025.3.0\n",
      "future==1.0.0\n",
      "gast==0.6.0\n",
      "gcsfs==2025.3.0\n",
      "GDAL==3.8.4\n",
      "gdown==5.2.0\n",
      "geemap==0.35.3\n",
      "geocoder==1.38.1\n",
      "geographiclib==2.0\n",
      "geopandas==1.1.1\n",
      "geopy==2.4.1\n",
      "gin-config==0.5.0\n",
      "gitdb==4.0.12\n",
      "GitPython==3.1.45\n",
      "glob2==0.7\n",
      "google==2.0.3\n",
      "google-ai-generativelanguage==0.6.15\n",
      "google-api-core==2.25.1\n",
      "google-api-python-client==2.177.0\n",
      "google-auth==2.38.0\n",
      "google-auth-httplib2==0.2.0\n",
      "google-auth-oauthlib==1.2.2\n",
      "google-cloud-aiplatform==1.106.0\n",
      "google-cloud-bigquery==3.35.1\n",
      "google-cloud-bigquery-connection==1.18.3\n",
      "google-cloud-bigquery-storage==2.32.0\n",
      "google-cloud-core==2.4.3\n",
      "google-cloud-dataproc==5.21.0\n",
      "google-cloud-datastore==2.21.0\n",
      "google-cloud-firestore==2.21.0\n",
      "google-cloud-functions==1.20.4\n",
      "google-cloud-language==2.17.2\n",
      "google-cloud-resource-manager==1.14.2\n",
      "google-cloud-spanner==3.56.0\n",
      "google-cloud-storage==2.19.0\n",
      "google-cloud-translate==3.21.1\n",
      "google-colab @ file:///colabtools/dist/google_colab-1.0.0.tar.gz\n",
      "google-crc32c==1.7.1\n",
      "google-genai==1.28.0\n",
      "google-generativeai==0.8.5\n",
      "google-pasta==0.2.0\n",
      "google-resumable-media==2.7.2\n",
      "googleapis-common-protos==1.70.0\n",
      "googledrivedownloader==1.1.0\n",
      "gptcache==0.1.44\n",
      "gradio==5.39.0\n",
      "gradio_client==1.11.0\n",
      "graphviz==0.21\n",
      "greenlet==3.2.3\n",
      "groovy==0.1.2\n",
      "grpc-google-iam-v1==0.14.2\n",
      "grpc-interceptor==0.15.4\n",
      "grpcio==1.74.0\n",
      "grpcio-status==1.71.2\n",
      "grpclib==0.4.8\n",
      "gspread==6.2.1\n",
      "gspread-dataframe==4.0.0\n",
      "gym==0.25.2\n",
      "gym-notices==0.1.0\n",
      "gymnasium==1.2.0\n",
      "h11==0.16.0\n",
      "h2==4.2.0\n",
      "h5netcdf==1.6.3\n",
      "h5py==3.14.0\n",
      "hdbscan==0.8.40\n",
      "hf-xet==1.1.5\n",
      "hf_transfer==0.1.9\n",
      "highspy==1.11.0\n",
      "holidays==0.77\n",
      "holoviews==1.21.0\n",
      "hpack==4.1.0\n",
      "html5lib==1.1\n",
      "httpcore==1.0.9\n",
      "httpimport==1.4.1\n",
      "httplib2==0.22.0\n",
      "httptools==0.6.4\n",
      "httpx==0.28.1\n",
      "httpx-sse==0.4.0\n",
      "huggingface-hub==0.34.3\n",
      "humanfriendly==10.0\n",
      "humanize==4.12.3\n",
      "hyperframe==6.1.0\n",
      "hyperopt==0.2.7\n",
      "ibis-framework==9.5.0\n",
      "idna==3.10\n",
      "imageio==2.37.0\n",
      "imageio-ffmpeg==0.6.0\n",
      "imagesize==1.4.1\n",
      "imbalanced-learn==0.13.0\n",
      "immutabledict==4.2.1\n",
      "importlib_metadata==8.7.0\n",
      "importlib_resources==6.5.2\n",
      "imutils==0.5.4\n",
      "inflect==7.5.0\n",
      "iniconfig==2.1.0\n",
      "instructor==1.10.0\n",
      "intel-cmplr-lib-ur==2025.2.0\n",
      "intel-openmp==2025.2.0\n",
      "ipyevents==2.0.2\n",
      "ipyfilechooser==0.6.0\n",
      "ipykernel==6.17.1\n",
      "ipyleaflet==0.20.0\n",
      "ipyparallel==8.8.0\n",
      "ipython==7.34.0\n",
      "ipython-genutils==0.2.0\n",
      "ipython-sql==0.5.0\n",
      "ipytree==0.2.2\n",
      "ipywidgets==7.7.1\n",
      "itsdangerous==2.2.0\n",
      "jaraco.classes==3.4.0\n",
      "jaraco.context==6.0.1\n",
      "jaraco.functools==4.2.1\n",
      "jax==0.5.3\n",
      "jax-cuda12-pjrt==0.5.3\n",
      "jax-cuda12-plugin==0.5.3\n",
      "jaxlib==0.5.3\n",
      "jedi==0.19.2\n",
      "jeepney==0.9.0\n",
      "jieba==0.42.1\n",
      "Jinja2==3.1.6\n",
      "jiter==0.10.0\n",
      "joblib==1.5.1\n",
      "json5==0.12.0\n",
      "json_repair==0.25.2\n",
      "jsonpatch==1.33\n",
      "jsonpickle==4.1.1\n",
      "jsonpointer==3.0.0\n",
      "jsonref==1.1.0\n",
      "jsonschema==4.25.0\n",
      "jsonschema-specifications==2025.4.1\n",
      "jupyter-client==6.1.12\n",
      "jupyter-console==6.1.0\n",
      "jupyter-leaflet==0.20.0\n",
      "jupyter-server==1.16.0\n",
      "jupyter_core==5.8.1\n",
      "jupyter_kernel_gateway @ git+https://github.com/googlecolab/kernel_gateway@b134e9945df25c2dcb98ade9129399be10788671\n",
      "jupyterlab_pygments==0.3.0\n",
      "jupyterlab_widgets==3.0.15\n",
      "jupytext==1.17.2\n",
      "kaggle==1.7.4.5\n",
      "kagglehub==0.3.12\n",
      "keras==3.10.0\n",
      "keras-hub==0.21.1\n",
      "keras-nlp==0.21.1\n",
      "keyring==25.6.0\n",
      "keyrings.google-artifactregistry-auth==1.1.2\n",
      "kiwisolver==1.4.8\n",
      "kubernetes==33.1.0\n",
      "lancedb==0.24.2\n",
      "langchain==0.3.27\n",
      "langchain-cohere==0.3.5\n",
      "langchain-community==0.3.27\n",
      "langchain-core==0.3.72\n",
      "langchain-experimental==0.3.4\n",
      "langchain-openai==0.2.14\n",
      "langchain-text-splitters==0.3.9\n",
      "langcodes==3.5.0\n",
      "langsmith==0.3.45\n",
      "language_data==1.3.0\n",
      "launchpadlib==1.10.16\n",
      "lazr.restfulclient==0.14.4\n",
      "lazr.uri==1.0.6\n",
      "lazy_loader==0.4\n",
      "libclang==18.1.1\n",
      "libcudf-cu12 @ https://pypi.nvidia.com/libcudf-cu12/libcudf_cu12-25.6.0-py3-none-manylinux_2_28_x86_64.whl\n",
      "libcugraph-cu12==25.6.0\n",
      "libcuml-cu12==25.6.0\n",
      "libcuvs-cu12==25.6.1\n",
      "libkvikio-cu12==25.6.0\n",
      "libpysal==4.13.0\n",
      "libraft-cu12==25.6.0\n",
      "librmm-cu12==25.6.0\n",
      "librosa==0.11.0\n",
      "libucx-cu12==1.18.1\n",
      "libucxx-cu12==0.44.0\n",
      "lightgbm @ file:///tmp/lightgbm/LightGBM/dist/lightgbm-4.6.0-py3-none-linux_x86_64.whl\n",
      "linkify-it-py==2.0.3\n",
      "litellm==1.74.9\n",
      "llvmlite==0.43.0\n",
      "locket==1.0.0\n",
      "logical-unification==0.4.6\n",
      "lxml==5.4.0\n",
      "Mako==1.1.3\n",
      "marisa-trie==1.2.1\n",
      "Markdown==3.8.2\n",
      "markdown-it-py==3.0.0\n",
      "MarkupSafe==3.0.2\n",
      "marshmallow==3.26.1\n",
      "matplotlib==3.10.0\n",
      "matplotlib-inline==0.1.7\n",
      "matplotlib-venn==1.1.2\n",
      "mdit-py-plugins==0.4.2\n",
      "mdurl==0.1.2\n",
      "mem0ai==0.1.115\n",
      "miniKanren==1.0.5\n",
      "missingno==0.5.2\n",
      "mistune==3.1.3\n",
      "mizani==0.13.5\n",
      "mkl==2025.2.0\n",
      "ml_dtypes==0.5.3\n",
      "mlxtend==0.23.4\n",
      "mmh3==5.2.0\n",
      "monotonic==1.6\n",
      "more-itertools==10.7.0\n",
      "moviepy==1.0.3\n",
      "mpmath==1.3.0\n",
      "msgpack==1.1.1\n",
      "multidict==6.6.3\n",
      "multipledispatch==1.0.0\n",
      "multiprocess==0.70.16\n",
      "multitasking==0.0.12\n",
      "murmurhash==1.0.13\n",
      "music21==9.3.0\n",
      "mypy_extensions==1.1.0\n",
      "namex==0.1.0\n",
      "narwhals==2.0.1\n",
      "natsort==8.4.0\n",
      "nbclassic==1.3.1\n",
      "nbclient==0.10.2\n",
      "nbconvert==7.16.6\n",
      "nbformat==5.10.4\n",
      "ndindex==1.10.0\n",
      "nest-asyncio==1.6.0\n",
      "networkx==3.5\n",
      "nibabel==5.3.2\n",
      "nltk==3.9.1\n",
      "nodeenv==1.9.1\n",
      "notebook==6.5.7\n",
      "notebook_shim==0.2.4\n",
      "numba==0.60.0\n",
      "numba-cuda==0.11.0\n",
      "numexpr==2.11.0\n",
      "numpy==2.0.2\n",
      "nvidia-cublas-cu12==12.5.3.2\n",
      "nvidia-cuda-cupti-cu12==12.5.82\n",
      "nvidia-cuda-nvcc-cu12==12.5.82\n",
      "nvidia-cuda-nvrtc-cu12==12.5.82\n",
      "nvidia-cuda-runtime-cu12==12.5.82\n",
      "nvidia-cudnn-cu12==9.3.0.75\n",
      "nvidia-cufft-cu12==11.2.3.61\n",
      "nvidia-curand-cu12==10.3.6.82\n",
      "nvidia-cusolver-cu12==11.6.3.83\n",
      "nvidia-cusparse-cu12==12.5.1.3\n",
      "nvidia-cusparselt-cu12==0.6.2\n",
      "nvidia-ml-py==12.575.51\n",
      "nvidia-nccl-cu12==2.23.4\n",
      "nvidia-nvjitlink-cu12==12.5.82\n",
      "nvidia-nvtx-cu12==12.4.127\n",
      "nvtx==0.2.12\n",
      "nx-cugraph-cu12 @ https://pypi.nvidia.com/nx-cugraph-cu12/nx_cugraph_cu12-25.6.0-py3-none-any.whl\n",
      "oauth2client==4.1.3\n",
      "oauthlib==3.3.1\n",
      "omegaconf==2.3.0\n",
      "onnxruntime==1.22.0\n",
      "openai==1.98.0\n",
      "opencv-contrib-python==4.12.0.88\n",
      "opencv-python==4.12.0.88\n",
      "opencv-python-headless==4.12.0.88\n",
      "openpyxl==3.1.5\n",
      "opentelemetry-api==1.36.0\n",
      "opentelemetry-exporter-otlp-proto-common==1.36.0\n",
      "opentelemetry-exporter-otlp-proto-grpc==1.36.0\n",
      "opentelemetry-exporter-otlp-proto-http==1.36.0\n",
      "opentelemetry-instrumentation==0.57b0\n",
      "opentelemetry-instrumentation-asgi==0.57b0\n",
      "opentelemetry-instrumentation-fastapi==0.57b0\n",
      "opentelemetry-proto==1.36.0\n",
      "opentelemetry-sdk==1.36.0\n",
      "opentelemetry-semantic-conventions==0.57b0\n",
      "opentelemetry-util-http==0.57b0\n",
      "opt_einsum==3.4.0\n",
      "optax==0.2.5\n",
      "optree==0.17.0\n",
      "orbax-checkpoint==0.11.20\n",
      "orjson==3.11.1\n",
      "osqp==1.0.4\n",
      "overrides==7.7.0\n",
      "packaging==25.0\n",
      "pandas==2.2.2\n",
      "pandas-datareader==0.10.0\n",
      "pandas-gbq==0.29.2\n",
      "pandas-stubs==2.2.2.240909\n",
      "pandocfilters==1.5.1\n",
      "panel==1.7.5\n",
      "param==2.2.1\n",
      "parso==0.8.4\n",
      "parsy==2.1\n",
      "partd==1.4.2\n",
      "patsy==1.0.1\n",
      "pdfminer.six==20250506\n",
      "pdfplumber==0.11.7\n",
      "peewee==3.18.2\n",
      "peft==0.16.0\n",
      "pexpect==4.9.0\n",
      "pickleshare==0.7.5\n",
      "pillow==11.3.0\n",
      "platformdirs==4.3.8\n",
      "playwright==1.54.0\n",
      "plotly==5.24.1\n",
      "plotnine==0.14.5\n",
      "pluggy==1.6.0\n",
      "ply==3.11\n",
      "polars==1.25.2\n",
      "pooch==1.8.2\n",
      "portalocker==2.7.0\n",
      "portpicker==1.5.2\n",
      "posthog==3.25.0\n",
      "preshed==3.0.10\n",
      "prettytable==3.16.0\n",
      "proglog==0.1.12\n",
      "progressbar2==4.5.0\n",
      "prometheus_client==0.22.1\n",
      "promise==2.3\n",
      "prompt_toolkit==3.0.51\n",
      "propcache==0.3.2\n",
      "prophet==1.1.7\n",
      "proto-plus==1.26.1\n",
      "protobuf==5.29.5\n",
      "psutil==5.9.5\n",
      "psycopg2==2.9.10\n",
      "psygnal==0.14.0\n",
      "ptyprocess==0.7.0\n",
      "py-cpuinfo==9.0.0\n",
      "py4j==0.10.9.7\n",
      "pyarrow==18.1.0\n",
      "pyasn1==0.6.1\n",
      "pyasn1_modules==0.4.2\n",
      "pycairo==1.28.0\n",
      "pycocotools==2.0.10\n",
      "pycparser==2.22\n",
      "pycryptodomex==3.23.0\n",
      "pydantic==2.11.7\n",
      "pydantic-settings==2.10.1\n",
      "pydantic_core==2.33.2\n",
      "pydata-google-auth==1.9.1\n",
      "pydot==3.0.4\n",
      "pydotplus==2.0.2\n",
      "PyDrive2==1.21.3\n",
      "pydub==0.25.1\n",
      "pyee==13.0.0\n",
      "pyerfa==2.0.1.5\n",
      "pygame==2.6.1\n",
      "pygit2==1.18.1\n",
      "Pygments==2.19.2\n",
      "PyGObject==3.42.0\n",
      "PyJWT==2.10.1\n",
      "pylibcudf-cu12 @ https://pypi.nvidia.com/pylibcudf-cu12/pylibcudf_cu12-25.6.0-cp311-cp311-manylinux_2_24_x86_64.manylinux_2_28_x86_64.whl\n",
      "pylibcugraph-cu12==25.6.0\n",
      "pylibraft-cu12==25.6.0\n",
      "pymc==5.25.1\n",
      "pynndescent==0.5.13\n",
      "pynvjitlink-cu12==0.7.0\n",
      "pynvml==12.0.0\n",
      "pyogrio==0.11.0\n",
      "pyomo==6.9.2\n",
      "PyOpenGL==3.1.9\n",
      "pyOpenSSL==24.2.1\n",
      "pyparsing==3.2.3\n",
      "pypdf==5.9.0\n",
      "pypdfium2==4.30.0\n",
      "pyperclip==1.9.0\n",
      "PyPika==0.48.9\n",
      "pyproj==3.7.1\n",
      "pyproject_hooks==1.2.0\n",
      "pyright==1.1.403\n",
      "pysbd==0.3.4\n",
      "pyshp==2.3.1\n",
      "PySocks==1.7.1\n",
      "pyspark==3.5.1\n",
      "pytensor==2.31.7\n",
      "pytest==8.4.1\n",
      "python-apt==0.0.0\n",
      "python-box==7.3.2\n",
      "python-dateutil==2.9.0.post0\n",
      "python-dotenv==1.1.1\n",
      "python-louvain==0.16\n",
      "python-multipart==0.0.20\n",
      "python-slugify==8.0.4\n",
      "python-snappy==0.7.3\n",
      "python-utils==3.9.1\n",
      "pytube==15.0.0\n",
      "pytz==2025.2\n",
      "pyvis==0.3.2\n",
      "pyviz_comms==3.0.6\n",
      "PyWavelets==1.8.0\n",
      "PyYAML==6.0.2\n",
      "pyzmq==26.2.1\n",
      "qdrant-client==1.15.1\n",
      "raft-dask-cu12==25.6.0\n",
      "rapids-dask-dependency==25.6.0\n",
      "rapids-logger==0.1.1\n",
      "ratelim==0.1.6\n",
      "referencing==0.36.2\n",
      "regex==2024.11.6\n",
      "requests==2.32.3\n",
      "requests-oauthlib==2.0.0\n",
      "requests-toolbelt==1.0.0\n",
      "requirements-parser==0.9.0\n",
      "rich==13.9.4\n",
      "rmm-cu12==25.6.0\n",
      "roman-numerals-py==3.1.0\n",
      "rpds-py==0.26.0\n",
      "rpy2==3.5.17\n",
      "rsa==4.9.1\n",
      "ruff==0.12.7\n",
      "safehttpx==0.1.6\n",
      "safetensors==0.5.3\n",
      "schema==0.7.7\n",
      "scikit-image==0.25.2\n",
      "scikit-learn==1.6.1\n",
      "scipy==1.16.1\n",
      "scooby==0.10.1\n",
      "scs==3.2.7.post2\n",
      "seaborn==0.13.2\n",
      "SecretStorage==3.3.3\n",
      "semantic-version==2.10.0\n",
      "Send2Trash==1.8.3\n",
      "sentence-transformers==4.1.0\n",
      "sentencepiece==0.2.0\n",
      "sentry-sdk==2.34.1\n",
      "shap==0.48.0\n",
      "shapely==2.1.1\n",
      "shellingham==1.5.4\n",
      "simple-parsing==0.1.7\n",
      "simplejson==3.20.1\n",
      "simsimd==6.5.0\n",
      "six==1.17.0\n",
      "sklearn-compat==0.1.3\n",
      "sklearn-pandas==2.2.0\n",
      "slicer==0.0.8\n",
      "smart_open==7.3.0.post1\n",
      "smmap==5.0.2\n",
      "sniffio==1.3.1\n",
      "snowballstemmer==3.0.1\n",
      "sortedcontainers==2.4.0\n",
      "soundfile==0.13.1\n",
      "soupsieve==2.7\n",
      "soxr==0.5.0.post1\n",
      "spacy==3.8.7\n",
      "spacy-legacy==3.0.12\n",
      "spacy-loggers==1.0.5\n",
      "spanner-graph-notebook==1.1.6\n",
      "Sphinx==8.2.3\n",
      "sphinxcontrib-applehelp==2.0.0\n",
      "sphinxcontrib-devhelp==2.0.0\n",
      "sphinxcontrib-htmlhelp==2.1.0\n",
      "sphinxcontrib-jsmath==1.0.1\n",
      "sphinxcontrib-qthelp==2.0.0\n",
      "sphinxcontrib-serializinghtml==2.0.0\n",
      "SQLAlchemy==2.0.42\n",
      "sqlglot==25.20.2\n",
      "sqlparse==0.5.3\n",
      "srsly==2.5.1\n",
      "stagehand==0.5.0\n",
      "stanio==0.5.1\n",
      "starlette==0.47.2\n",
      "statsmodels==0.14.5\n",
      "stringzilla==3.12.5\n",
      "stumpy==1.13.0\n",
      "sympy==1.13.1\n",
      "tables==3.10.2\n",
      "tabulate==0.9.0\n",
      "tbb==2022.2.0\n",
      "tblib==3.1.0\n",
      "tcmlib==1.4.0\n",
      "tenacity==8.5.0\n",
      "tensorboard==2.19.0\n",
      "tensorboard-data-server==0.7.2\n",
      "tensorflow==2.19.0\n",
      "tensorflow-datasets==4.9.9\n",
      "tensorflow-hub==0.16.1\n",
      "tensorflow-io-gcs-filesystem==0.37.1\n",
      "tensorflow-metadata==1.17.2\n",
      "tensorflow-probability==0.25.0\n",
      "tensorflow-text==2.19.0\n",
      "tensorflow_decision_forests==1.12.0\n",
      "tensorstore==0.1.76\n",
      "termcolor==3.1.0\n",
      "terminado==0.18.1\n",
      "text-unidecode==1.3\n",
      "textblob==0.19.0\n",
      "tf-slim==1.1.0\n",
      "tf_keras==2.19.0\n",
      "thinc==8.3.6\n",
      "threadpoolctl==3.6.0\n",
      "tifffile==2025.6.11\n",
      "tiktoken==0.9.0\n",
      "timm==1.0.19\n",
      "tinycss2==1.4.0\n",
      "tokenizers==0.20.3\n",
      "toml==0.10.2\n",
      "tomli==2.2.1\n",
      "tomli_w==1.2.0\n",
      "tomlkit==0.13.3\n",
      "toolz==0.12.1\n",
      "torch @ https://download.pytorch.org/whl/cu124/torch-2.6.0%2Bcu124-cp311-cp311-linux_x86_64.whl\n",
      "torchao==0.10.0\n",
      "torchaudio @ https://download.pytorch.org/whl/cu124/torchaudio-2.6.0%2Bcu124-cp311-cp311-linux_x86_64.whl\n",
      "torchdata==0.11.0\n",
      "torchsummary==1.5.1\n",
      "torchtune==0.6.1\n",
      "torchvision @ https://download.pytorch.org/whl/cu124/torchvision-0.21.0%2Bcu124-cp311-cp311-linux_x86_64.whl\n",
      "tornado==6.4.2\n",
      "tqdm==4.67.1\n",
      "traitlets==5.7.1\n",
      "traittypes==0.2.1\n",
      "transformers==4.54.1\n",
      "treelite==4.4.1\n",
      "treescope==0.1.9\n",
      "triton==3.2.0\n",
      "tsfresh==0.21.0\n",
      "tweepy==4.16.0\n",
      "typeguard==4.4.4\n",
      "typer==0.16.0\n",
      "types-pytz==2025.2.0.20250516\n",
      "types-requests==2.32.4.20250611\n",
      "types-setuptools==80.9.0.20250801\n",
      "typing-inspect==0.9.0\n",
      "typing-inspection==0.4.1\n",
      "typing_extensions==4.14.1\n",
      "tzdata==2025.2\n",
      "tzlocal==5.3.1\n",
      "uc-micro-py==1.0.3\n",
      "ucx-py-cu12==0.44.0\n",
      "ucxx-cu12==0.44.0\n",
      "umap-learn==0.5.9.post2\n",
      "umf==0.11.0\n",
      "uritemplate==4.2.0\n",
      "urllib3==2.5.0\n",
      "uv==0.8.5\n",
      "uvicorn==0.35.0\n",
      "uvloop==0.21.0\n",
      "vega-datasets==0.9.0\n",
      "wadllib==1.3.6\n",
      "wandb==0.21.0\n",
      "wasabi==1.1.3\n",
      "watchfiles==1.1.0\n",
      "wcwidth==0.2.13\n",
      "weasel==0.4.1\n",
      "webcolors==24.11.1\n",
      "webencodings==0.5.1\n",
      "websocket-client==1.8.0\n",
      "websockets==15.0.1\n",
      "Werkzeug==3.1.3\n",
      "widgetsnbextension==3.6.10\n",
      "wordcloud==1.9.4\n",
      "wrapt==1.17.2\n",
      "wurlitzer==3.1.1\n",
      "xarray==2025.7.1\n",
      "xarray-einstats==0.9.1\n",
      "xgboost==3.0.3\n",
      "xlrd==2.0.2\n",
      "xxhash==3.5.0\n",
      "xyzservices==2025.4.0\n",
      "yarl==1.20.1\n",
      "ydf==0.13.0\n",
      "yellowbrick==1.5\n",
      "yfinance==0.2.65\n",
      "zict==3.0.0\n",
      "zipp==3.23.0\n",
      "zstandard==0.23.0\n"
     ]
    }
   ],
   "source": [
    "!pip freeze"
   ]
  },
  {
   "cell_type": "code",
   "execution_count": 59,
   "metadata": {
    "executionInfo": {
     "elapsed": 10,
     "status": "ok",
     "timestamp": 1754575644060,
     "user": {
      "displayName": "Sebastian Perez",
      "userId": "05076230752993245420"
     },
     "user_tz": 240
    },
    "id": "QI1J2IX2r9cE"
   },
   "outputs": [],
   "source": [
    "import os\n",
    "os.environ['OPENAI_API_KEY'] = api_key"
   ]
  },
  {
   "cell_type": "code",
   "execution_count": 70,
   "metadata": {
    "executionInfo": {
     "elapsed": 27,
     "status": "ok",
     "timestamp": 1754575998805,
     "user": {
      "displayName": "Sebastian Perez",
      "userId": "05076230752993245420"
     },
     "user_tz": 240
    },
    "id": "X4ftQ8fxsYh0"
   },
   "outputs": [],
   "source": [
    "# Import Libraries\n",
    "from crewai import Agent, Task, Crew, Process, LLM\n",
    "from crewai_tools import VisionTool\n",
    "from IPython.display import display, Markdown"
   ]
  },
  {
   "cell_type": "code",
   "execution_count": 61,
   "metadata": {
    "executionInfo": {
     "elapsed": 17,
     "status": "ok",
     "timestamp": 1754575644208,
     "user": {
      "displayName": "Sebastian Perez",
      "userId": "05076230752993245420"
     },
     "user_tz": 240
    },
    "id": "h3trvK2YxHA8"
   },
   "outputs": [],
   "source": [
    "llm = LLM(\n",
    "    model = 'gpt-4o',\n",
    "    temperature = 0.8\n",
    ")"
   ]
  },
  {
   "cell_type": "markdown",
   "metadata": {
    "id": "6qvwBgeGskWL"
   },
   "source": [
    "# AI Agent for Image Description"
   ]
  },
  {
   "cell_type": "code",
   "execution_count": 62,
   "metadata": {
    "colab": {
     "base_uri": "https://localhost:8080/",
     "height": 352
    },
    "executionInfo": {
     "elapsed": 226,
     "status": "ok",
     "timestamp": 1754575645270,
     "user": {
      "displayName": "Sebastian Perez",
      "userId": "05076230752993245420"
     },
     "user_tz": 240
    },
    "id": "_iu0afEWuRFc",
    "outputId": "ffde113c-cb0a-4656-d444-9a6682db89d0"
   },
   "outputs": [
    {
     "data": {
      "image/png": "[encoded data removed]",
      "text/plain": [
       "<PIL.PngImagePlugin.PngImageFile image mode=RGBA size=1881x930>"
      ]
     },
     "execution_count": 62,
     "metadata": {},
     "output_type": "execute_result"
    }
   ],
   "source": [
    "from PIL import Image\n",
    "\n",
    "image_path = 'image1.png'\n",
    "\n",
    "image = Image.open('image1.png')\n",
    "\n",
    "image"
   ]
  },
  {
   "cell_type": "code",
   "execution_count": 63,
   "metadata": {
    "executionInfo": {
     "elapsed": 16,
     "status": "ok",
     "timestamp": 1754575646747,
     "user": {
      "displayName": "Sebastian Perez",
      "userId": "05076230752993245420"
     },
     "user_tz": 240
    },
    "id": "pKeo6ZFWsdAa"
   },
   "outputs": [],
   "source": [
    "vision_tool = VisionTool()"
   ]
  },
  {
   "cell_type": "code",
   "execution_count": 64,
   "metadata": {
    "executionInfo": {
     "elapsed": 7,
     "status": "ok",
     "timestamp": 1754575647378,
     "user": {
      "displayName": "Sebastian Perez",
      "userId": "05076230752993245420"
     },
     "user_tz": 240
    },
    "id": "YbTP_i44sunC"
   },
   "outputs": [],
   "source": [
    "image_describer_agent = Agent(\n",
    "    role = 'Image describer',\n",
    "    goal = f'Describe the content of an image {image_path} accurately and comprehensively.',\n",
    "    backstory = 'Expert Disgner working for a B2B restaurant startup',\n",
    "    verbose = True,\n",
    "    tools = [vision_tool],\n",
    "    llm = llm\n",
    ")"
   ]
  },
  {
   "cell_type": "code",
   "execution_count": 65,
   "metadata": {
    "executionInfo": {
     "elapsed": 3,
     "status": "ok",
     "timestamp": 1754575648016,
     "user": {
      "displayName": "Sebastian Perez",
      "userId": "05076230752993245420"
     },
     "user_tz": 240
    },
    "id": "gVVzIoBoswzi"
   },
   "outputs": [],
   "source": [
    "describe_image_task = Task(\n",
    "    description = 'Describe the content of the image.',\n",
    "    expected_output = 'A detailed description of the iamge.',\n",
    "    agent = image_describer_agent\n",
    ")"
   ]
  },
  {
   "cell_type": "markdown",
   "metadata": {
    "id": "iQp4A3W60gku"
   },
   "source": [
    "# Second Agent and Task"
   ]
  },
  {
   "cell_type": "code",
   "execution_count": 66,
   "metadata": {
    "executionInfo": {
     "elapsed": 6,
     "status": "ok",
     "timestamp": 1754575649116,
     "user": {
      "displayName": "Sebastian Perez",
      "userId": "05076230752993245420"
     },
     "user_tz": 240
    },
    "id": "dJFK6Hom0kY2"
   },
   "outputs": [],
   "source": [
    "designer_agent = Agent(\n",
    "    role = 'Designer',\n",
    "    goal = f'Suggest improvements to the described scene {image_path} based on the image description',\n",
    "    backstory = 'Expert designer working for a B2B Restaurant Start Up',\n",
    "    verbose = True,\n",
    "    llm = llm,\n",
    "    tools = [vision_tool]\n",
    ")"
   ]
  },
  {
   "cell_type": "code",
   "execution_count": 67,
   "metadata": {
    "executionInfo": {
     "elapsed": 7,
     "status": "ok",
     "timestamp": 1754575649632,
     "user": {
      "displayName": "Sebastian Perez",
      "userId": "05076230752993245420"
     },
     "user_tz": 240
    },
    "id": "XkmjS1QR1214"
   },
   "outputs": [],
   "source": [
    "suggest_improvements_task = Task(\n",
    "    description = 'Suggest three improvements to the scene depicted in the image.',\n",
    "    expected_output = 'A list of three concise suggestions for enhancing the scene.',\n",
    "    agent = designer_agent,\n",
    "    context = [describe_image_task]\n",
    ")"
   ]
  },
  {
   "cell_type": "markdown",
   "metadata": {
    "id": "qgpIXSnM4tbV"
   },
   "source": [
    "# Third Agent and Task"
   ]
  },
  {
   "cell_type": "code",
   "execution_count": 79,
   "metadata": {
    "executionInfo": {
     "elapsed": 14,
     "status": "ok",
     "timestamp": 1754577254734,
     "user": {
      "displayName": "Sebastian Perez",
      "userId": "05076230752993245420"
     },
     "user_tz": 240
    },
    "id": "Sjxpxaan7Q6B"
   },
   "outputs": [],
   "source": [
    "product_manager_agent = Agent(\n",
    "    role = 'Product Manager',\n",
    "    goal = f'Create user stories and prioritise them based on the image {image_path} description and suggested improvements.',\n",
    "    backstory = 'Expert Product manager working for B2B Restaurant Startup',\n",
    "    verbose = True,\n",
    "    llm = llm,\n",
    "    tools = [vision_tool]\n",
    ")"
   ]
  },
  {
   "cell_type": "code",
   "execution_count": 80,
   "metadata": {
    "executionInfo": {
     "elapsed": 15,
     "status": "ok",
     "timestamp": 1754577254877,
     "user": {
      "displayName": "Sebastian Perez",
      "userId": "05076230752993245420"
     },
     "user_tz": 240
    },
    "id": "pYxfQvzB7-gj"
   },
   "outputs": [],
   "source": [
    "create_user_stories_task = Task(\n",
    "    description = 'Create three user stories and rank them in order of priority based on the provided image description and suggested improvements.',\n",
    "    expected_output = 'A numbered list of three user stories with a clear priority ranking',\n",
    "    agent = product_manager_agent,\n",
    "    context = [describe_image_task, suggest_improvements_task]\n",
    ")"
   ]
  },
  {
   "cell_type": "markdown",
   "metadata": {
    "id": "4NOrC3KkuoE0"
   },
   "source": [
    "# Build the team of agents"
   ]
  },
  {
   "cell_type": "code",
   "execution_count": 81,
   "metadata": {
    "executionInfo": {
     "elapsed": 6,
     "status": "ok",
     "timestamp": 1754577259525,
     "user": {
      "displayName": "Sebastian Perez",
      "userId": "05076230752993245420"
     },
     "user_tz": 240
    },
    "id": "AaKs03PPsyei"
   },
   "outputs": [],
   "source": [
    "# Assemble the crew\n",
    "ai_team = Crew(\n",
    "    agents = [image_describer_agent, designer_agent, product_manager_agent],\n",
    "    tasks = [describe_image_task, suggest_improvements_task, create_user_stories_task],\n",
    "    process = Process.sequential\n",
    ")"
   ]
  },
  {
   "cell_type": "code",
   "execution_count": 82,
   "metadata": {
    "colab": {
     "base_uri": "https://localhost:8080/",
     "height": 1000
    },
    "executionInfo": {
     "elapsed": 25624,
     "status": "ok",
     "timestamp": 1754577290906,
     "user": {
      "displayName": "Sebastian Perez",
      "userId": "05076230752993245420"
     },
     "user_tz": 240
    },
    "id": "iO6P0X5LuqQr",
    "outputId": "9a70ad0a-0d49-4b62-bf66-0981ea41f340"
   },
   "outputs": [
    {
     "data": {
      "text/html": [
       "<pre style=\"white-space:pre;overflow-x:auto;line-height:normal;font-family:Menlo,'DejaVu Sans Mono',consolas,'Courier New',monospace\"><span style=\"color: #800080; text-decoration-color: #800080\">╭─────────────────────────────────────────────── 🤖 Agent Started ────────────────────────────────────────────────╮</span>\n",
       "<span style=\"color: #800080; text-decoration-color: #800080\">│</span>                                                                                                                 <span style=\"color: #800080; text-decoration-color: #800080\">│</span>\n",
       "<span style=\"color: #800080; text-decoration-color: #800080\">│</span>  <span style=\"color: #c0c0c0; text-decoration-color: #c0c0c0\">Agent: </span><span style=\"color: #00ff00; text-decoration-color: #00ff00; font-weight: bold\">Image describer</span>                                                                                         <span style=\"color: #800080; text-decoration-color: #800080\">│</span>\n",
       "<span style=\"color: #800080; text-decoration-color: #800080\">│</span>                                                                                                                 <span style=\"color: #800080; text-decoration-color: #800080\">│</span>\n",
       "<span style=\"color: #800080; text-decoration-color: #800080\">│</span>  <span style=\"color: #c0c0c0; text-decoration-color: #c0c0c0\">Task: </span><span style=\"color: #00ff00; text-decoration-color: #00ff00\">Describe the content of the image.</span>                                                                       <span style=\"color: #800080; text-decoration-color: #800080\">│</span>\n",
       "<span style=\"color: #800080; text-decoration-color: #800080\">│</span>                                                                                                                 <span style=\"color: #800080; text-decoration-color: #800080\">│</span>\n",
       "<span style=\"color: #800080; text-decoration-color: #800080\">╰─────────────────────────────────────────────────────────────────────────────────────────────────────────────────╯</span>\n",
       "</pre>\n"
      ],
      "text/plain": [
       "\u001b[35m╭─\u001b[0m\u001b[35m──────────────────────────────────────────────\u001b[0m\u001b[35m 🤖 Agent Started \u001b[0m\u001b[35m───────────────────────────────────────────────\u001b[0m\u001b[35m─╮\u001b[0m\n",
       "\u001b[35m│\u001b[0m                                                                                                                 \u001b[35m│\u001b[0m\n",
       "\u001b[35m│\u001b[0m  \u001b[37mAgent: \u001b[0m\u001b[1;92mImage describer\u001b[0m                                                                                         \u001b[35m│\u001b[0m\n",
       "\u001b[35m│\u001b[0m                                                                                                                 \u001b[35m│\u001b[0m\n",
       "\u001b[35m│\u001b[0m  \u001b[37mTask: \u001b[0m\u001b[92mDescribe the content of the image.\u001b[0m                                                                       \u001b[35m│\u001b[0m\n",
       "\u001b[35m│\u001b[0m                                                                                                                 \u001b[35m│\u001b[0m\n",
       "\u001b[35m╰─────────────────────────────────────────────────────────────────────────────────────────────────────────────────╯\u001b[0m\n"
      ]
     },
     "metadata": {},
     "output_type": "display_data"
    },
    {
     "data": {
      "text/html": [
       "<pre style=\"white-space:pre;overflow-x:auto;line-height:normal;font-family:Menlo,'DejaVu Sans Mono',consolas,'Courier New',monospace\">\n",
       "</pre>\n"
      ],
      "text/plain": [
       "\n"
      ]
     },
     "metadata": {},
     "output_type": "display_data"
    },
    {
     "data": {
      "text/html": [
       "<pre style=\"white-space:pre;overflow-x:auto;line-height:normal;font-family:Menlo,'DejaVu Sans Mono',consolas,'Courier New',monospace\"><span style=\"color: #800080; text-decoration-color: #800080\">╭──────────────────────────────────────────── 🔧 Agent Tool Execution ────────────────────────────────────────────╮</span>\n",
       "<span style=\"color: #800080; text-decoration-color: #800080\">│</span>                                                                                                                 <span style=\"color: #800080; text-decoration-color: #800080\">│</span>\n",
       "<span style=\"color: #800080; text-decoration-color: #800080\">│</span>  <span style=\"color: #c0c0c0; text-decoration-color: #c0c0c0\">Agent: </span><span style=\"color: #00ff00; text-decoration-color: #00ff00; font-weight: bold\">Image describer</span>                                                                                         <span style=\"color: #800080; text-decoration-color: #800080\">│</span>\n",
       "<span style=\"color: #800080; text-decoration-color: #800080\">│</span>                                                                                                                 <span style=\"color: #800080; text-decoration-color: #800080\">│</span>\n",
       "<span style=\"color: #800080; text-decoration-color: #800080\">│</span>  <span style=\"color: #c0c0c0; text-decoration-color: #c0c0c0\">Thought: </span><span style=\"color: #00ff00; text-decoration-color: #00ff00\">Thought: To accurately describe the content of image1.png, I should use the Vision Tool to analyze </span>   <span style=\"color: #800080; text-decoration-color: #800080\">│</span>\n",
       "<span style=\"color: #800080; text-decoration-color: #800080\">│</span>  <span style=\"color: #00ff00; text-decoration-color: #00ff00\">the image.</span>                                                                                                     <span style=\"color: #800080; text-decoration-color: #800080\">│</span>\n",
       "<span style=\"color: #800080; text-decoration-color: #800080\">│</span>                                                                                                                 <span style=\"color: #800080; text-decoration-color: #800080\">│</span>\n",
       "<span style=\"color: #800080; text-decoration-color: #800080\">│</span>  <span style=\"color: #c0c0c0; text-decoration-color: #c0c0c0\">Using Tool: </span><span style=\"color: #00ff00; text-decoration-color: #00ff00; font-weight: bold\">Vision Tool</span>                                                                                        <span style=\"color: #800080; text-decoration-color: #800080\">│</span>\n",
       "<span style=\"color: #800080; text-decoration-color: #800080\">│</span>                                                                                                                 <span style=\"color: #800080; text-decoration-color: #800080\">│</span>\n",
       "<span style=\"color: #800080; text-decoration-color: #800080\">╰─────────────────────────────────────────────────────────────────────────────────────────────────────────────────╯</span>\n",
       "</pre>\n"
      ],
      "text/plain": [
       "\u001b[35m╭─\u001b[0m\u001b[35m───────────────────────────────────────────\u001b[0m\u001b[35m 🔧 Agent Tool Execution \u001b[0m\u001b[35m───────────────────────────────────────────\u001b[0m\u001b[35m─╮\u001b[0m\n",
       "\u001b[35m│\u001b[0m                                                                                                                 \u001b[35m│\u001b[0m\n",
       "\u001b[35m│\u001b[0m  \u001b[37mAgent: \u001b[0m\u001b[1;92mImage describer\u001b[0m                                                                                         \u001b[35m│\u001b[0m\n",
       "\u001b[35m│\u001b[0m                                                                                                                 \u001b[35m│\u001b[0m\n",
       "\u001b[35m│\u001b[0m  \u001b[37mThought: \u001b[0m\u001b[92mThought: To accurately describe the content of image1.png, I should use the Vision Tool to analyze \u001b[0m   \u001b[35m│\u001b[0m\n",
       "\u001b[35m│\u001b[0m  \u001b[92mthe image.\u001b[0m                                                                                                     \u001b[35m│\u001b[0m\n",
       "\u001b[35m│\u001b[0m                                                                                                                 \u001b[35m│\u001b[0m\n",
       "\u001b[35m│\u001b[0m  \u001b[37mUsing Tool: \u001b[0m\u001b[1;92mVision Tool\u001b[0m                                                                                        \u001b[35m│\u001b[0m\n",
       "\u001b[35m│\u001b[0m                                                                                                                 \u001b[35m│\u001b[0m\n",
       "\u001b[35m╰─────────────────────────────────────────────────────────────────────────────────────────────────────────────────╯\u001b[0m\n"
      ]
     },
     "metadata": {},
     "output_type": "display_data"
    },
    {
     "data": {
      "text/html": [
       "<pre style=\"white-space:pre;overflow-x:auto;line-height:normal;font-family:Menlo,'DejaVu Sans Mono',consolas,'Courier New',monospace\"><span style=\"color: #000080; text-decoration-color: #000080\">╭────────────────────────────────────────────────── Tool Input ───────────────────────────────────────────────────╮</span>\n",
       "<span style=\"color: #000080; text-decoration-color: #000080\">│</span>                                                                                                                 <span style=\"color: #000080; text-decoration-color: #000080\">│</span>\n",
       "<span style=\"color: #000080; text-decoration-color: #000080\">│</span>  <span style=\"color: #e6db74; text-decoration-color: #e6db74; background-color: #ffffff\">\"{\\\"image_path_url\\\": \\\"image1.png\\\"}\"</span>                                                                         <span style=\"color: #000080; text-decoration-color: #000080\">│</span>\n",
       "<span style=\"color: #000080; text-decoration-color: #000080\">│</span>                                                                                                                 <span style=\"color: #000080; text-decoration-color: #000080\">│</span>\n",
       "<span style=\"color: #000080; text-decoration-color: #000080\">╰─────────────────────────────────────────────────────────────────────────────────────────────────────────────────╯</span>\n",
       "</pre>\n"
      ],
      "text/plain": [
       "\u001b[34m╭─\u001b[0m\u001b[34m─────────────────────────────────────────────────\u001b[0m\u001b[34m Tool Input \u001b[0m\u001b[34m──────────────────────────────────────────────────\u001b[0m\u001b[34m─╮\u001b[0m\n",
       "\u001b[34m│\u001b[0m                                                                                                                 \u001b[34m│\u001b[0m\n",
       "\u001b[34m│\u001b[0m  \u001b[38;2;230;219;116;49m\"{\\\"image_path_url\\\": \\\"image1.png\\\"}\"\u001b[0m                                                                         \u001b[34m│\u001b[0m\n",
       "\u001b[34m│\u001b[0m                                                                                                                 \u001b[34m│\u001b[0m\n",
       "\u001b[34m╰─────────────────────────────────────────────────────────────────────────────────────────────────────────────────╯\u001b[0m\n"
      ]
     },
     "metadata": {},
     "output_type": "display_data"
    },
    {
     "data": {
      "text/html": [
       "<pre style=\"white-space:pre;overflow-x:auto;line-height:normal;font-family:Menlo,'DejaVu Sans Mono',consolas,'Courier New',monospace\"><span style=\"color: #008000; text-decoration-color: #008000\">╭────────────────────────────────────────────────── Tool Output ──────────────────────────────────────────────────╮</span>\n",
       "<span style=\"color: #008000; text-decoration-color: #008000\">│</span>                                                                                                                 <span style=\"color: #008000; text-decoration-color: #008000\">│</span>\n",
       "<span style=\"color: #008000; text-decoration-color: #008000\">│</span>  <span style=\"color: #00ff00; text-decoration-color: #00ff00\">The image appears to be a screenshot of a restaurant management interface, specifically for a service called </span>  <span style=\"color: #008000; text-decoration-color: #008000\">│</span>\n",
       "<span style=\"color: #008000; text-decoration-color: #008000\">│</span>  <span style=\"color: #00ff00; text-decoration-color: #00ff00\">\"Bitte.\" It features sections for setting up themes related to a restaurant named \"Pizza Real.\" The interface</span>  <span style=\"color: #008000; text-decoration-color: #008000\">│</span>\n",
       "<span style=\"color: #008000; text-decoration-color: #008000\">│</span>  <span style=\"color: #00ff00; text-decoration-color: #00ff00\">includes options for entering links to social media platforms (like TikTok, Facebook, Instagram, and YouTube)</span>  <span style=\"color: #008000; text-decoration-color: #008000\">│</span>\n",
       "<span style=\"color: #008000; text-decoration-color: #008000\">│</span>  <span style=\"color: #00ff00; text-decoration-color: #00ff00\">and an area for uploading a cover logo. There's also a section to choose a background color or image, with a </span>  <span style=\"color: #008000; text-decoration-color: #008000\">│</span>\n",
       "<span style=\"color: #008000; text-decoration-color: #008000\">│</span>  <span style=\"color: #00ff00; text-decoration-color: #00ff00\">specific menu background color shown in hex code (#102d50). The layout includes a navigation panel on the </span>     <span style=\"color: #008000; text-decoration-color: #008000\">│</span>\n",
       "<span style=\"color: #008000; text-decoration-color: #008000\">│</span>  <span style=\"color: #00ff00; text-decoration-color: #00ff00\">left for various functionalities such as order management and reservations.</span>                                    <span style=\"color: #008000; text-decoration-color: #008000\">│</span>\n",
       "<span style=\"color: #008000; text-decoration-color: #008000\">│</span>                                                                                                                 <span style=\"color: #008000; text-decoration-color: #008000\">│</span>\n",
       "<span style=\"color: #008000; text-decoration-color: #008000\">╰─────────────────────────────────────────────────────────────────────────────────────────────────────────────────╯</span>\n",
       "</pre>\n"
      ],
      "text/plain": [
       "\u001b[32m╭─\u001b[0m\u001b[32m─────────────────────────────────────────────────\u001b[0m\u001b[32m Tool Output \u001b[0m\u001b[32m─────────────────────────────────────────────────\u001b[0m\u001b[32m─╮\u001b[0m\n",
       "\u001b[32m│\u001b[0m                                                                                                                 \u001b[32m│\u001b[0m\n",
       "\u001b[32m│\u001b[0m  \u001b[92mThe image appears to be a screenshot of a restaurant management interface, specifically for a service called \u001b[0m  \u001b[32m│\u001b[0m\n",
       "\u001b[32m│\u001b[0m  \u001b[92m\"Bitte.\" It features sections for setting up themes related to a restaurant named \"Pizza Real.\" The interface\u001b[0m  \u001b[32m│\u001b[0m\n",
       "\u001b[32m│\u001b[0m  \u001b[92mincludes options for entering links to social media platforms (like TikTok, Facebook, Instagram, and YouTube)\u001b[0m  \u001b[32m│\u001b[0m\n",
       "\u001b[32m│\u001b[0m  \u001b[92mand an area for uploading a cover logo. There's also a section to choose a background color or image, with a \u001b[0m  \u001b[32m│\u001b[0m\n",
       "\u001b[32m│\u001b[0m  \u001b[92mspecific menu background color shown in hex code (#102d50). The layout includes a navigation panel on the \u001b[0m     \u001b[32m│\u001b[0m\n",
       "\u001b[32m│\u001b[0m  \u001b[92mleft for various functionalities such as order management and reservations.\u001b[0m                                    \u001b[32m│\u001b[0m\n",
       "\u001b[32m│\u001b[0m                                                                                                                 \u001b[32m│\u001b[0m\n",
       "\u001b[32m╰─────────────────────────────────────────────────────────────────────────────────────────────────────────────────╯\u001b[0m\n"
      ]
     },
     "metadata": {},
     "output_type": "display_data"
    },
    {
     "data": {
      "text/html": [
       "<pre style=\"white-space:pre;overflow-x:auto;line-height:normal;font-family:Menlo,'DejaVu Sans Mono',consolas,'Courier New',monospace\">\n",
       "</pre>\n"
      ],
      "text/plain": [
       "\n"
      ]
     },
     "metadata": {},
     "output_type": "display_data"
    },
    {
     "data": {
      "text/html": [
       "<pre style=\"white-space:pre;overflow-x:auto;line-height:normal;font-family:Menlo,'DejaVu Sans Mono',consolas,'Courier New',monospace\"><span style=\"color: #008000; text-decoration-color: #008000\">╭───────────────────────────────────────────── ✅ Agent Final Answer ─────────────────────────────────────────────╮</span>\n",
       "<span style=\"color: #008000; text-decoration-color: #008000\">│</span>                                                                                                                 <span style=\"color: #008000; text-decoration-color: #008000\">│</span>\n",
       "<span style=\"color: #008000; text-decoration-color: #008000\">│</span>  <span style=\"color: #c0c0c0; text-decoration-color: #c0c0c0\">Agent: </span><span style=\"color: #00ff00; text-decoration-color: #00ff00; font-weight: bold\">Image describer</span>                                                                                         <span style=\"color: #008000; text-decoration-color: #008000\">│</span>\n",
       "<span style=\"color: #008000; text-decoration-color: #008000\">│</span>                                                                                                                 <span style=\"color: #008000; text-decoration-color: #008000\">│</span>\n",
       "<span style=\"color: #008000; text-decoration-color: #008000\">│</span>  <span style=\"color: #c0c0c0; text-decoration-color: #c0c0c0\">Final Answer:</span>                                                                                                  <span style=\"color: #008000; text-decoration-color: #008000\">│</span>\n",
       "<span style=\"color: #008000; text-decoration-color: #008000\">│</span>  <span style=\"color: #00ff00; text-decoration-color: #00ff00\">The image is a screenshot of a restaurant management interface for a service called \"Bitte,\" which is </span>         <span style=\"color: #008000; text-decoration-color: #008000\">│</span>\n",
       "<span style=\"color: #008000; text-decoration-color: #008000\">│</span>  <span style=\"color: #00ff00; text-decoration-color: #00ff00\">tailored for managing a restaurant named \"Pizza Real.\" The interface includes several sections designed for </span>   <span style=\"color: #008000; text-decoration-color: #008000\">│</span>\n",
       "<span style=\"color: #008000; text-decoration-color: #008000\">│</span>  <span style=\"color: #00ff00; text-decoration-color: #00ff00\">customization and branding. There is a section dedicated to setting up social media links, with fields for </span>    <span style=\"color: #008000; text-decoration-color: #008000\">│</span>\n",
       "<span style=\"color: #008000; text-decoration-color: #008000\">│</span>  <span style=\"color: #00ff00; text-decoration-color: #00ff00\">entering URLs for TikTok, Facebook, Instagram, and YouTube. Additionally, there's an area for uploading a </span>     <span style=\"color: #008000; text-decoration-color: #008000\">│</span>\n",
       "<span style=\"color: #008000; text-decoration-color: #008000\">│</span>  <span style=\"color: #00ff00; text-decoration-color: #00ff00\">cover logo, which is a key part of the branding process.</span>                                                       <span style=\"color: #008000; text-decoration-color: #008000\">│</span>\n",
       "<span style=\"color: #008000; text-decoration-color: #008000\">│</span>                                                                                                                 <span style=\"color: #008000; text-decoration-color: #008000\">│</span>\n",
       "<span style=\"color: #008000; text-decoration-color: #008000\">│</span>  <span style=\"color: #00ff00; text-decoration-color: #00ff00\">The interface also allows for color customization, providing options to select a background color or use an </span>   <span style=\"color: #008000; text-decoration-color: #008000\">│</span>\n",
       "<span style=\"color: #008000; text-decoration-color: #008000\">│</span>  <span style=\"color: #00ff00; text-decoration-color: #00ff00\">image. A specific color is displayed with a hex code (#102d50), likely representing the menu background color</span>  <span style=\"color: #008000; text-decoration-color: #008000\">│</span>\n",
       "<span style=\"color: #008000; text-decoration-color: #008000\">│</span>  <span style=\"color: #00ff00; text-decoration-color: #00ff00\">for the restaurant theme. This customization feature helps in maintaining a cohesive visual identity for the </span>  <span style=\"color: #008000; text-decoration-color: #008000\">│</span>\n",
       "<span style=\"color: #008000; text-decoration-color: #008000\">│</span>  <span style=\"color: #00ff00; text-decoration-color: #00ff00\">restaurant.</span>                                                                                                    <span style=\"color: #008000; text-decoration-color: #008000\">│</span>\n",
       "<span style=\"color: #008000; text-decoration-color: #008000\">│</span>                                                                                                                 <span style=\"color: #008000; text-decoration-color: #008000\">│</span>\n",
       "<span style=\"color: #008000; text-decoration-color: #008000\">│</span>  <span style=\"color: #00ff00; text-decoration-color: #00ff00\">On the left side of the interface, there is a navigation panel that offers various functionalities essential </span>  <span style=\"color: #008000; text-decoration-color: #008000\">│</span>\n",
       "<span style=\"color: #008000; text-decoration-color: #008000\">│</span>  <span style=\"color: #00ff00; text-decoration-color: #00ff00\">for restaurant operations. These include options for managing orders and handling reservations, suggesting a </span>  <span style=\"color: #008000; text-decoration-color: #008000\">│</span>\n",
       "<span style=\"color: #008000; text-decoration-color: #008000\">│</span>  <span style=\"color: #00ff00; text-decoration-color: #00ff00\">comprehensive tool intended to streamline restaurant management tasks. The overall layout and options </span>         <span style=\"color: #008000; text-decoration-color: #008000\">│</span>\n",
       "<span style=\"color: #008000; text-decoration-color: #008000\">│</span>  <span style=\"color: #00ff00; text-decoration-color: #00ff00\">indicate a focus on both aesthetic customization and functional management capabilities.</span>                       <span style=\"color: #008000; text-decoration-color: #008000\">│</span>\n",
       "<span style=\"color: #008000; text-decoration-color: #008000\">│</span>                                                                                                                 <span style=\"color: #008000; text-decoration-color: #008000\">│</span>\n",
       "<span style=\"color: #008000; text-decoration-color: #008000\">╰─────────────────────────────────────────────────────────────────────────────────────────────────────────────────╯</span>\n",
       "</pre>\n"
      ],
      "text/plain": [
       "\u001b[32m╭─\u001b[0m\u001b[32m────────────────────────────────────────────\u001b[0m\u001b[32m ✅ Agent Final Answer \u001b[0m\u001b[32m────────────────────────────────────────────\u001b[0m\u001b[32m─╮\u001b[0m\n",
       "\u001b[32m│\u001b[0m                                                                                                                 \u001b[32m│\u001b[0m\n",
       "\u001b[32m│\u001b[0m  \u001b[37mAgent: \u001b[0m\u001b[1;92mImage describer\u001b[0m                                                                                         \u001b[32m│\u001b[0m\n",
       "\u001b[32m│\u001b[0m                                                                                                                 \u001b[32m│\u001b[0m\n",
       "\u001b[32m│\u001b[0m  \u001b[37mFinal Answer:\u001b[0m                                                                                                  \u001b[32m│\u001b[0m\n",
       "\u001b[32m│\u001b[0m  \u001b[92mThe image is a screenshot of a restaurant management interface for a service called \"Bitte,\" which is \u001b[0m         \u001b[32m│\u001b[0m\n",
       "\u001b[32m│\u001b[0m  \u001b[92mtailored for managing a restaurant named \"Pizza Real.\" The interface includes several sections designed for \u001b[0m   \u001b[32m│\u001b[0m\n",
       "\u001b[32m│\u001b[0m  \u001b[92mcustomization and branding. There is a section dedicated to setting up social media links, with fields for \u001b[0m    \u001b[32m│\u001b[0m\n",
       "\u001b[32m│\u001b[0m  \u001b[92mentering URLs for TikTok, Facebook, Instagram, and YouTube. Additionally, there's an area for uploading a \u001b[0m     \u001b[32m│\u001b[0m\n",
       "\u001b[32m│\u001b[0m  \u001b[92mcover logo, which is a key part of the branding process.\u001b[0m                                                       \u001b[32m│\u001b[0m\n",
       "\u001b[32m│\u001b[0m                                                                                                                 \u001b[32m│\u001b[0m\n",
       "\u001b[32m│\u001b[0m  \u001b[92mThe interface also allows for color customization, providing options to select a background color or use an \u001b[0m   \u001b[32m│\u001b[0m\n",
       "\u001b[32m│\u001b[0m  \u001b[92mimage. A specific color is displayed with a hex code (#102d50), likely representing the menu background color\u001b[0m  \u001b[32m│\u001b[0m\n",
       "\u001b[32m│\u001b[0m  \u001b[92mfor the restaurant theme. This customization feature helps in maintaining a cohesive visual identity for the \u001b[0m  \u001b[32m│\u001b[0m\n",
       "\u001b[32m│\u001b[0m  \u001b[92mrestaurant.\u001b[0m                                                                                                    \u001b[32m│\u001b[0m\n",
       "\u001b[32m│\u001b[0m                                                                                                                 \u001b[32m│\u001b[0m\n",
       "\u001b[32m│\u001b[0m  \u001b[92mOn the left side of the interface, there is a navigation panel that offers various functionalities essential \u001b[0m  \u001b[32m│\u001b[0m\n",
       "\u001b[32m│\u001b[0m  \u001b[92mfor restaurant operations. These include options for managing orders and handling reservations, suggesting a \u001b[0m  \u001b[32m│\u001b[0m\n",
       "\u001b[32m│\u001b[0m  \u001b[92mcomprehensive tool intended to streamline restaurant management tasks. The overall layout and options \u001b[0m         \u001b[32m│\u001b[0m\n",
       "\u001b[32m│\u001b[0m  \u001b[92mindicate a focus on both aesthetic customization and functional management capabilities.\u001b[0m                       \u001b[32m│\u001b[0m\n",
       "\u001b[32m│\u001b[0m                                                                                                                 \u001b[32m│\u001b[0m\n",
       "\u001b[32m╰─────────────────────────────────────────────────────────────────────────────────────────────────────────────────╯\u001b[0m\n"
      ]
     },
     "metadata": {},
     "output_type": "display_data"
    },
    {
     "data": {
      "text/html": [
       "<pre style=\"white-space:pre;overflow-x:auto;line-height:normal;font-family:Menlo,'DejaVu Sans Mono',consolas,'Courier New',monospace\">\n",
       "</pre>\n"
      ],
      "text/plain": [
       "\n"
      ]
     },
     "metadata": {},
     "output_type": "display_data"
    },
    {
     "data": {
      "text/html": [
       "<pre style=\"white-space:pre;overflow-x:auto;line-height:normal;font-family:Menlo,'DejaVu Sans Mono',consolas,'Courier New',monospace\"><span style=\"color: #800080; text-decoration-color: #800080\">╭─────────────────────────────────────────────── 🤖 Agent Started ────────────────────────────────────────────────╮</span>\n",
       "<span style=\"color: #800080; text-decoration-color: #800080\">│</span>                                                                                                                 <span style=\"color: #800080; text-decoration-color: #800080\">│</span>\n",
       "<span style=\"color: #800080; text-decoration-color: #800080\">│</span>  <span style=\"color: #c0c0c0; text-decoration-color: #c0c0c0\">Agent: </span><span style=\"color: #00ff00; text-decoration-color: #00ff00; font-weight: bold\">Designer</span>                                                                                                <span style=\"color: #800080; text-decoration-color: #800080\">│</span>\n",
       "<span style=\"color: #800080; text-decoration-color: #800080\">│</span>                                                                                                                 <span style=\"color: #800080; text-decoration-color: #800080\">│</span>\n",
       "<span style=\"color: #800080; text-decoration-color: #800080\">│</span>  <span style=\"color: #c0c0c0; text-decoration-color: #c0c0c0\">Task: </span><span style=\"color: #00ff00; text-decoration-color: #00ff00\">Suggest three improvements to the scene depicted in the image.</span>                                           <span style=\"color: #800080; text-decoration-color: #800080\">│</span>\n",
       "<span style=\"color: #800080; text-decoration-color: #800080\">│</span>                                                                                                                 <span style=\"color: #800080; text-decoration-color: #800080\">│</span>\n",
       "<span style=\"color: #800080; text-decoration-color: #800080\">╰─────────────────────────────────────────────────────────────────────────────────────────────────────────────────╯</span>\n",
       "</pre>\n"
      ],
      "text/plain": [
       "\u001b[35m╭─\u001b[0m\u001b[35m──────────────────────────────────────────────\u001b[0m\u001b[35m 🤖 Agent Started \u001b[0m\u001b[35m───────────────────────────────────────────────\u001b[0m\u001b[35m─╮\u001b[0m\n",
       "\u001b[35m│\u001b[0m                                                                                                                 \u001b[35m│\u001b[0m\n",
       "\u001b[35m│\u001b[0m  \u001b[37mAgent: \u001b[0m\u001b[1;92mDesigner\u001b[0m                                                                                                \u001b[35m│\u001b[0m\n",
       "\u001b[35m│\u001b[0m                                                                                                                 \u001b[35m│\u001b[0m\n",
       "\u001b[35m│\u001b[0m  \u001b[37mTask: \u001b[0m\u001b[92mSuggest three improvements to the scene depicted in the image.\u001b[0m                                           \u001b[35m│\u001b[0m\n",
       "\u001b[35m│\u001b[0m                                                                                                                 \u001b[35m│\u001b[0m\n",
       "\u001b[35m╰─────────────────────────────────────────────────────────────────────────────────────────────────────────────────╯\u001b[0m\n"
      ]
     },
     "metadata": {},
     "output_type": "display_data"
    },
    {
     "data": {
      "text/html": [
       "<pre style=\"white-space:pre;overflow-x:auto;line-height:normal;font-family:Menlo,'DejaVu Sans Mono',consolas,'Courier New',monospace\">\n",
       "</pre>\n"
      ],
      "text/plain": [
       "\n"
      ]
     },
     "metadata": {},
     "output_type": "display_data"
    },
    {
     "data": {
      "text/html": [
       "<pre style=\"white-space:pre;overflow-x:auto;line-height:normal;font-family:Menlo,'DejaVu Sans Mono',consolas,'Courier New',monospace\"><span style=\"color: #800080; text-decoration-color: #800080\">╭──────────────────────────────────────────── 🔧 Agent Tool Execution ────────────────────────────────────────────╮</span>\n",
       "<span style=\"color: #800080; text-decoration-color: #800080\">│</span>                                                                                                                 <span style=\"color: #800080; text-decoration-color: #800080\">│</span>\n",
       "<span style=\"color: #800080; text-decoration-color: #800080\">│</span>  <span style=\"color: #c0c0c0; text-decoration-color: #c0c0c0\">Agent: </span><span style=\"color: #00ff00; text-decoration-color: #00ff00; font-weight: bold\">Designer</span>                                                                                                <span style=\"color: #800080; text-decoration-color: #800080\">│</span>\n",
       "<span style=\"color: #800080; text-decoration-color: #800080\">│</span>                                                                                                                 <span style=\"color: #800080; text-decoration-color: #800080\">│</span>\n",
       "<span style=\"color: #800080; text-decoration-color: #800080\">│</span>  <span style=\"color: #c0c0c0; text-decoration-color: #c0c0c0\">Thought: </span><span style=\"color: #00ff00; text-decoration-color: #00ff00\">Thought: To suggest improvements to the scene depicted in the image, I need to understand the </span>        <span style=\"color: #800080; text-decoration-color: #800080\">│</span>\n",
       "<span style=\"color: #800080; text-decoration-color: #800080\">│</span>  <span style=\"color: #00ff00; text-decoration-color: #00ff00\">current layout and design of the restaurant management interface. I will use the Vision Tool to get a </span>         <span style=\"color: #800080; text-decoration-color: #800080\">│</span>\n",
       "<span style=\"color: #800080; text-decoration-color: #800080\">│</span>  <span style=\"color: #00ff00; text-decoration-color: #00ff00\">detailed description of the image.</span>                                                                             <span style=\"color: #800080; text-decoration-color: #800080\">│</span>\n",
       "<span style=\"color: #800080; text-decoration-color: #800080\">│</span>                                                                                                                 <span style=\"color: #800080; text-decoration-color: #800080\">│</span>\n",
       "<span style=\"color: #800080; text-decoration-color: #800080\">│</span>  <span style=\"color: #c0c0c0; text-decoration-color: #c0c0c0\">Using Tool: </span><span style=\"color: #00ff00; text-decoration-color: #00ff00; font-weight: bold\">Vision Tool</span>                                                                                        <span style=\"color: #800080; text-decoration-color: #800080\">│</span>\n",
       "<span style=\"color: #800080; text-decoration-color: #800080\">│</span>                                                                                                                 <span style=\"color: #800080; text-decoration-color: #800080\">│</span>\n",
       "<span style=\"color: #800080; text-decoration-color: #800080\">╰─────────────────────────────────────────────────────────────────────────────────────────────────────────────────╯</span>\n",
       "</pre>\n"
      ],
      "text/plain": [
       "\u001b[35m╭─\u001b[0m\u001b[35m───────────────────────────────────────────\u001b[0m\u001b[35m 🔧 Agent Tool Execution \u001b[0m\u001b[35m───────────────────────────────────────────\u001b[0m\u001b[35m─╮\u001b[0m\n",
       "\u001b[35m│\u001b[0m                                                                                                                 \u001b[35m│\u001b[0m\n",
       "\u001b[35m│\u001b[0m  \u001b[37mAgent: \u001b[0m\u001b[1;92mDesigner\u001b[0m                                                                                                \u001b[35m│\u001b[0m\n",
       "\u001b[35m│\u001b[0m                                                                                                                 \u001b[35m│\u001b[0m\n",
       "\u001b[35m│\u001b[0m  \u001b[37mThought: \u001b[0m\u001b[92mThought: To suggest improvements to the scene depicted in the image, I need to understand the \u001b[0m        \u001b[35m│\u001b[0m\n",
       "\u001b[35m│\u001b[0m  \u001b[92mcurrent layout and design of the restaurant management interface. I will use the Vision Tool to get a \u001b[0m         \u001b[35m│\u001b[0m\n",
       "\u001b[35m│\u001b[0m  \u001b[92mdetailed description of the image.\u001b[0m                                                                             \u001b[35m│\u001b[0m\n",
       "\u001b[35m│\u001b[0m                                                                                                                 \u001b[35m│\u001b[0m\n",
       "\u001b[35m│\u001b[0m  \u001b[37mUsing Tool: \u001b[0m\u001b[1;92mVision Tool\u001b[0m                                                                                        \u001b[35m│\u001b[0m\n",
       "\u001b[35m│\u001b[0m                                                                                                                 \u001b[35m│\u001b[0m\n",
       "\u001b[35m╰─────────────────────────────────────────────────────────────────────────────────────────────────────────────────╯\u001b[0m\n"
      ]
     },
     "metadata": {},
     "output_type": "display_data"
    },
    {
     "data": {
      "text/html": [
       "<pre style=\"white-space:pre;overflow-x:auto;line-height:normal;font-family:Menlo,'DejaVu Sans Mono',consolas,'Courier New',monospace\"><span style=\"color: #000080; text-decoration-color: #000080\">╭────────────────────────────────────────────────── Tool Input ───────────────────────────────────────────────────╮</span>\n",
       "<span style=\"color: #000080; text-decoration-color: #000080\">│</span>                                                                                                                 <span style=\"color: #000080; text-decoration-color: #000080\">│</span>\n",
       "<span style=\"color: #000080; text-decoration-color: #000080\">│</span>  <span style=\"color: #e6db74; text-decoration-color: #e6db74; background-color: #ffffff\">\"{\\\"image_path_url\\\": \\\"image1.png\\\"}\"</span>                                                                         <span style=\"color: #000080; text-decoration-color: #000080\">│</span>\n",
       "<span style=\"color: #000080; text-decoration-color: #000080\">│</span>                                                                                                                 <span style=\"color: #000080; text-decoration-color: #000080\">│</span>\n",
       "<span style=\"color: #000080; text-decoration-color: #000080\">╰─────────────────────────────────────────────────────────────────────────────────────────────────────────────────╯</span>\n",
       "</pre>\n"
      ],
      "text/plain": [
       "\u001b[34m╭─\u001b[0m\u001b[34m─────────────────────────────────────────────────\u001b[0m\u001b[34m Tool Input \u001b[0m\u001b[34m──────────────────────────────────────────────────\u001b[0m\u001b[34m─╮\u001b[0m\n",
       "\u001b[34m│\u001b[0m                                                                                                                 \u001b[34m│\u001b[0m\n",
       "\u001b[34m│\u001b[0m  \u001b[38;2;230;219;116;49m\"{\\\"image_path_url\\\": \\\"image1.png\\\"}\"\u001b[0m                                                                         \u001b[34m│\u001b[0m\n",
       "\u001b[34m│\u001b[0m                                                                                                                 \u001b[34m│\u001b[0m\n",
       "\u001b[34m╰─────────────────────────────────────────────────────────────────────────────────────────────────────────────────╯\u001b[0m\n"
      ]
     },
     "metadata": {},
     "output_type": "display_data"
    },
    {
     "data": {
      "text/html": [
       "<pre style=\"white-space:pre;overflow-x:auto;line-height:normal;font-family:Menlo,'DejaVu Sans Mono',consolas,'Courier New',monospace\"><span style=\"color: #008000; text-decoration-color: #008000\">╭────────────────────────────────────────────────── Tool Output ──────────────────────────────────────────────────╮</span>\n",
       "<span style=\"color: #008000; text-decoration-color: #008000\">│</span>                                                                                                                 <span style=\"color: #008000; text-decoration-color: #008000\">│</span>\n",
       "<span style=\"color: #008000; text-decoration-color: #008000\">│</span>  <span style=\"color: #00ff00; text-decoration-color: #00ff00\">The image appears to be a screenshot of a restaurant management interface, specifically for a service called </span>  <span style=\"color: #008000; text-decoration-color: #008000\">│</span>\n",
       "<span style=\"color: #008000; text-decoration-color: #008000\">│</span>  <span style=\"color: #00ff00; text-decoration-color: #00ff00\">\"Bitte.\" It features sections for setting up themes related to a restaurant named \"Pizza Real.\" The interface</span>  <span style=\"color: #008000; text-decoration-color: #008000\">│</span>\n",
       "<span style=\"color: #008000; text-decoration-color: #008000\">│</span>  <span style=\"color: #00ff00; text-decoration-color: #00ff00\">includes options for entering links to social media platforms (like TikTok, Facebook, Instagram, and YouTube)</span>  <span style=\"color: #008000; text-decoration-color: #008000\">│</span>\n",
       "<span style=\"color: #008000; text-decoration-color: #008000\">│</span>  <span style=\"color: #00ff00; text-decoration-color: #00ff00\">and an area for uploading a cover logo. There's also a section to choose a background color or image, with a </span>  <span style=\"color: #008000; text-decoration-color: #008000\">│</span>\n",
       "<span style=\"color: #008000; text-decoration-color: #008000\">│</span>  <span style=\"color: #00ff00; text-decoration-color: #00ff00\">specific menu background color shown in hex code (#102d50). The layout includes a navigation panel on the </span>     <span style=\"color: #008000; text-decoration-color: #008000\">│</span>\n",
       "<span style=\"color: #008000; text-decoration-color: #008000\">│</span>  <span style=\"color: #00ff00; text-decoration-color: #00ff00\">left for various functionalities such as order management and reservations.</span>                                    <span style=\"color: #008000; text-decoration-color: #008000\">│</span>\n",
       "<span style=\"color: #008000; text-decoration-color: #008000\">│</span>                                                                                                                 <span style=\"color: #008000; text-decoration-color: #008000\">│</span>\n",
       "<span style=\"color: #008000; text-decoration-color: #008000\">╰─────────────────────────────────────────────────────────────────────────────────────────────────────────────────╯</span>\n",
       "</pre>\n"
      ],
      "text/plain": [
       "\u001b[32m╭─\u001b[0m\u001b[32m─────────────────────────────────────────────────\u001b[0m\u001b[32m Tool Output \u001b[0m\u001b[32m─────────────────────────────────────────────────\u001b[0m\u001b[32m─╮\u001b[0m\n",
       "\u001b[32m│\u001b[0m                                                                                                                 \u001b[32m│\u001b[0m\n",
       "\u001b[32m│\u001b[0m  \u001b[92mThe image appears to be a screenshot of a restaurant management interface, specifically for a service called \u001b[0m  \u001b[32m│\u001b[0m\n",
       "\u001b[32m│\u001b[0m  \u001b[92m\"Bitte.\" It features sections for setting up themes related to a restaurant named \"Pizza Real.\" The interface\u001b[0m  \u001b[32m│\u001b[0m\n",
       "\u001b[32m│\u001b[0m  \u001b[92mincludes options for entering links to social media platforms (like TikTok, Facebook, Instagram, and YouTube)\u001b[0m  \u001b[32m│\u001b[0m\n",
       "\u001b[32m│\u001b[0m  \u001b[92mand an area for uploading a cover logo. There's also a section to choose a background color or image, with a \u001b[0m  \u001b[32m│\u001b[0m\n",
       "\u001b[32m│\u001b[0m  \u001b[92mspecific menu background color shown in hex code (#102d50). The layout includes a navigation panel on the \u001b[0m     \u001b[32m│\u001b[0m\n",
       "\u001b[32m│\u001b[0m  \u001b[92mleft for various functionalities such as order management and reservations.\u001b[0m                                    \u001b[32m│\u001b[0m\n",
       "\u001b[32m│\u001b[0m                                                                                                                 \u001b[32m│\u001b[0m\n",
       "\u001b[32m╰─────────────────────────────────────────────────────────────────────────────────────────────────────────────────╯\u001b[0m\n"
      ]
     },
     "metadata": {},
     "output_type": "display_data"
    },
    {
     "data": {
      "text/html": [
       "<pre style=\"white-space:pre;overflow-x:auto;line-height:normal;font-family:Menlo,'DejaVu Sans Mono',consolas,'Courier New',monospace\">\n",
       "</pre>\n"
      ],
      "text/plain": [
       "\n"
      ]
     },
     "metadata": {},
     "output_type": "display_data"
    },
    {
     "data": {
      "text/html": [
       "<pre style=\"white-space:pre;overflow-x:auto;line-height:normal;font-family:Menlo,'DejaVu Sans Mono',consolas,'Courier New',monospace\"><span style=\"color: #008000; text-decoration-color: #008000\">╭───────────────────────────────────────────── ✅ Agent Final Answer ─────────────────────────────────────────────╮</span>\n",
       "<span style=\"color: #008000; text-decoration-color: #008000\">│</span>                                                                                                                 <span style=\"color: #008000; text-decoration-color: #008000\">│</span>\n",
       "<span style=\"color: #008000; text-decoration-color: #008000\">│</span>  <span style=\"color: #c0c0c0; text-decoration-color: #c0c0c0\">Agent: </span><span style=\"color: #00ff00; text-decoration-color: #00ff00; font-weight: bold\">Designer</span>                                                                                                <span style=\"color: #008000; text-decoration-color: #008000\">│</span>\n",
       "<span style=\"color: #008000; text-decoration-color: #008000\">│</span>                                                                                                                 <span style=\"color: #008000; text-decoration-color: #008000\">│</span>\n",
       "<span style=\"color: #008000; text-decoration-color: #008000\">│</span>  <span style=\"color: #c0c0c0; text-decoration-color: #c0c0c0\">Final Answer:</span>                                                                                                  <span style=\"color: #008000; text-decoration-color: #008000\">│</span>\n",
       "<span style=\"color: #008000; text-decoration-color: #008000\">│</span>  <span style=\"color: #00ff00; text-decoration-color: #00ff00\">1. Enhance the User Interface with Visual Cues: To improve usability, consider adding visual indicators or </span>    <span style=\"color: #008000; text-decoration-color: #008000\">│</span>\n",
       "<span style=\"color: #008000; text-decoration-color: #008000\">│</span>  <span style=\"color: #00ff00; text-decoration-color: #00ff00\">tooltips next to the social media link fields and color customization sections. This will guide users in </span>      <span style=\"color: #008000; text-decoration-color: #008000\">│</span>\n",
       "<span style=\"color: #008000; text-decoration-color: #008000\">│</span>  <span style=\"color: #00ff00; text-decoration-color: #00ff00\">understanding the purpose and ideal content for each field, enhancing the user experience.</span>                     <span style=\"color: #008000; text-decoration-color: #008000\">│</span>\n",
       "<span style=\"color: #008000; text-decoration-color: #008000\">│</span>                                                                                                                 <span style=\"color: #008000; text-decoration-color: #008000\">│</span>\n",
       "<span style=\"color: #008000; text-decoration-color: #008000\">│</span>  <span style=\"color: #00ff00; text-decoration-color: #00ff00\">2. Integrate a Real-Time Preview Feature: Implement a real-time preview section within the interface where </span>    <span style=\"color: #008000; text-decoration-color: #008000\">│</span>\n",
       "<span style=\"color: #008000; text-decoration-color: #008000\">│</span>  <span style=\"color: #00ff00; text-decoration-color: #00ff00\">users can instantly see changes made to colors, logos, and other branding elements. This could reduce errors </span>  <span style=\"color: #008000; text-decoration-color: #008000\">│</span>\n",
       "<span style=\"color: #008000; text-decoration-color: #008000\">│</span>  <span style=\"color: #00ff00; text-decoration-color: #00ff00\">and improve satisfaction by allowing users to visualize the impact of their design choices.</span>                    <span style=\"color: #008000; text-decoration-color: #008000\">│</span>\n",
       "<span style=\"color: #008000; text-decoration-color: #008000\">│</span>                                                                                                                 <span style=\"color: #008000; text-decoration-color: #008000\">│</span>\n",
       "<span style=\"color: #008000; text-decoration-color: #008000\">│</span>  <span style=\"color: #00ff00; text-decoration-color: #00ff00\">3. Optimize Navigation Panel for Better Accessibility: Review the navigation panel's design to ensure it is </span>   <span style=\"color: #008000; text-decoration-color: #008000\">│</span>\n",
       "<span style=\"color: #008000; text-decoration-color: #008000\">│</span>  <span style=\"color: #00ff00; text-decoration-color: #00ff00\">intuitive and accessible. Consider grouping similar functionalities for a more organized layout and </span>           <span style=\"color: #008000; text-decoration-color: #008000\">│</span>\n",
       "<span style=\"color: #008000; text-decoration-color: #008000\">│</span>  <span style=\"color: #00ff00; text-decoration-color: #00ff00\">incorporating search functionality or shortcuts for frequently accessed features, streamlining the management</span>  <span style=\"color: #008000; text-decoration-color: #008000\">│</span>\n",
       "<span style=\"color: #008000; text-decoration-color: #008000\">│</span>  <span style=\"color: #00ff00; text-decoration-color: #00ff00\">process.</span>                                                                                                       <span style=\"color: #008000; text-decoration-color: #008000\">│</span>\n",
       "<span style=\"color: #008000; text-decoration-color: #008000\">│</span>                                                                                                                 <span style=\"color: #008000; text-decoration-color: #008000\">│</span>\n",
       "<span style=\"color: #008000; text-decoration-color: #008000\">╰─────────────────────────────────────────────────────────────────────────────────────────────────────────────────╯</span>\n",
       "</pre>\n"
      ],
      "text/plain": [
       "\u001b[32m╭─\u001b[0m\u001b[32m────────────────────────────────────────────\u001b[0m\u001b[32m ✅ Agent Final Answer \u001b[0m\u001b[32m────────────────────────────────────────────\u001b[0m\u001b[32m─╮\u001b[0m\n",
       "\u001b[32m│\u001b[0m                                                                                                                 \u001b[32m│\u001b[0m\n",
       "\u001b[32m│\u001b[0m  \u001b[37mAgent: \u001b[0m\u001b[1;92mDesigner\u001b[0m                                                                                                \u001b[32m│\u001b[0m\n",
       "\u001b[32m│\u001b[0m                                                                                                                 \u001b[32m│\u001b[0m\n",
       "\u001b[32m│\u001b[0m  \u001b[37mFinal Answer:\u001b[0m                                                                                                  \u001b[32m│\u001b[0m\n",
       "\u001b[32m│\u001b[0m  \u001b[92m1. Enhance the User Interface with Visual Cues: To improve usability, consider adding visual indicators or \u001b[0m    \u001b[32m│\u001b[0m\n",
       "\u001b[32m│\u001b[0m  \u001b[92mtooltips next to the social media link fields and color customization sections. This will guide users in \u001b[0m      \u001b[32m│\u001b[0m\n",
       "\u001b[32m│\u001b[0m  \u001b[92munderstanding the purpose and ideal content for each field, enhancing the user experience.\u001b[0m                     \u001b[32m│\u001b[0m\n",
       "\u001b[32m│\u001b[0m                                                                                                                 \u001b[32m│\u001b[0m\n",
       "\u001b[32m│\u001b[0m  \u001b[92m2. Integrate a Real-Time Preview Feature: Implement a real-time preview section within the interface where \u001b[0m    \u001b[32m│\u001b[0m\n",
       "\u001b[32m│\u001b[0m  \u001b[92musers can instantly see changes made to colors, logos, and other branding elements. This could reduce errors \u001b[0m  \u001b[32m│\u001b[0m\n",
       "\u001b[32m│\u001b[0m  \u001b[92mand improve satisfaction by allowing users to visualize the impact of their design choices.\u001b[0m                    \u001b[32m│\u001b[0m\n",
       "\u001b[32m│\u001b[0m                                                                                                                 \u001b[32m│\u001b[0m\n",
       "\u001b[32m│\u001b[0m  \u001b[92m3. Optimize Navigation Panel for Better Accessibility: Review the navigation panel's design to ensure it is \u001b[0m   \u001b[32m│\u001b[0m\n",
       "\u001b[32m│\u001b[0m  \u001b[92mintuitive and accessible. Consider grouping similar functionalities for a more organized layout and \u001b[0m           \u001b[32m│\u001b[0m\n",
       "\u001b[32m│\u001b[0m  \u001b[92mincorporating search functionality or shortcuts for frequently accessed features, streamlining the management\u001b[0m  \u001b[32m│\u001b[0m\n",
       "\u001b[32m│\u001b[0m  \u001b[92mprocess.\u001b[0m                                                                                                       \u001b[32m│\u001b[0m\n",
       "\u001b[32m│\u001b[0m                                                                                                                 \u001b[32m│\u001b[0m\n",
       "\u001b[32m╰─────────────────────────────────────────────────────────────────────────────────────────────────────────────────╯\u001b[0m\n"
      ]
     },
     "metadata": {},
     "output_type": "display_data"
    },
    {
     "data": {
      "text/html": [
       "<pre style=\"white-space:pre;overflow-x:auto;line-height:normal;font-family:Menlo,'DejaVu Sans Mono',consolas,'Courier New',monospace\">\n",
       "</pre>\n"
      ],
      "text/plain": [
       "\n"
      ]
     },
     "metadata": {},
     "output_type": "display_data"
    },
    {
     "data": {
      "text/html": [
       "<pre style=\"white-space:pre;overflow-x:auto;line-height:normal;font-family:Menlo,'DejaVu Sans Mono',consolas,'Courier New',monospace\"><span style=\"color: #800080; text-decoration-color: #800080\">╭─────────────────────────────────────────────── 🤖 Agent Started ────────────────────────────────────────────────╮</span>\n",
       "<span style=\"color: #800080; text-decoration-color: #800080\">│</span>                                                                                                                 <span style=\"color: #800080; text-decoration-color: #800080\">│</span>\n",
       "<span style=\"color: #800080; text-decoration-color: #800080\">│</span>  <span style=\"color: #c0c0c0; text-decoration-color: #c0c0c0\">Agent: </span><span style=\"color: #00ff00; text-decoration-color: #00ff00; font-weight: bold\">Product Manager</span>                                                                                         <span style=\"color: #800080; text-decoration-color: #800080\">│</span>\n",
       "<span style=\"color: #800080; text-decoration-color: #800080\">│</span>                                                                                                                 <span style=\"color: #800080; text-decoration-color: #800080\">│</span>\n",
       "<span style=\"color: #800080; text-decoration-color: #800080\">│</span>  <span style=\"color: #c0c0c0; text-decoration-color: #c0c0c0\">Task: </span><span style=\"color: #00ff00; text-decoration-color: #00ff00\">Create three user stories and rank them in order of priority based on the provided image description </span>    <span style=\"color: #800080; text-decoration-color: #800080\">│</span>\n",
       "<span style=\"color: #800080; text-decoration-color: #800080\">│</span>  <span style=\"color: #00ff00; text-decoration-color: #00ff00\">and suggested improvements.</span>                                                                                    <span style=\"color: #800080; text-decoration-color: #800080\">│</span>\n",
       "<span style=\"color: #800080; text-decoration-color: #800080\">│</span>                                                                                                                 <span style=\"color: #800080; text-decoration-color: #800080\">│</span>\n",
       "<span style=\"color: #800080; text-decoration-color: #800080\">╰─────────────────────────────────────────────────────────────────────────────────────────────────────────────────╯</span>\n",
       "</pre>\n"
      ],
      "text/plain": [
       "\u001b[35m╭─\u001b[0m\u001b[35m──────────────────────────────────────────────\u001b[0m\u001b[35m 🤖 Agent Started \u001b[0m\u001b[35m───────────────────────────────────────────────\u001b[0m\u001b[35m─╮\u001b[0m\n",
       "\u001b[35m│\u001b[0m                                                                                                                 \u001b[35m│\u001b[0m\n",
       "\u001b[35m│\u001b[0m  \u001b[37mAgent: \u001b[0m\u001b[1;92mProduct Manager\u001b[0m                                                                                         \u001b[35m│\u001b[0m\n",
       "\u001b[35m│\u001b[0m                                                                                                                 \u001b[35m│\u001b[0m\n",
       "\u001b[35m│\u001b[0m  \u001b[37mTask: \u001b[0m\u001b[92mCreate three user stories and rank them in order of priority based on the provided image description \u001b[0m    \u001b[35m│\u001b[0m\n",
       "\u001b[35m│\u001b[0m  \u001b[92mand suggested improvements.\u001b[0m                                                                                    \u001b[35m│\u001b[0m\n",
       "\u001b[35m│\u001b[0m                                                                                                                 \u001b[35m│\u001b[0m\n",
       "\u001b[35m╰─────────────────────────────────────────────────────────────────────────────────────────────────────────────────╯\u001b[0m\n"
      ]
     },
     "metadata": {},
     "output_type": "display_data"
    },
    {
     "data": {
      "text/html": [
       "<pre style=\"white-space:pre;overflow-x:auto;line-height:normal;font-family:Menlo,'DejaVu Sans Mono',consolas,'Courier New',monospace\">\n",
       "</pre>\n"
      ],
      "text/plain": [
       "\n"
      ]
     },
     "metadata": {},
     "output_type": "display_data"
    },
    {
     "data": {
      "text/html": [
       "<pre style=\"white-space:pre;overflow-x:auto;line-height:normal;font-family:Menlo,'DejaVu Sans Mono',consolas,'Courier New',monospace\"><span style=\"color: #800080; text-decoration-color: #800080\">╭──────────────────────────────────────────── 🔧 Agent Tool Execution ────────────────────────────────────────────╮</span>\n",
       "<span style=\"color: #800080; text-decoration-color: #800080\">│</span>                                                                                                                 <span style=\"color: #800080; text-decoration-color: #800080\">│</span>\n",
       "<span style=\"color: #800080; text-decoration-color: #800080\">│</span>  <span style=\"color: #c0c0c0; text-decoration-color: #c0c0c0\">Agent: </span><span style=\"color: #00ff00; text-decoration-color: #00ff00; font-weight: bold\">Product Manager</span>                                                                                         <span style=\"color: #800080; text-decoration-color: #800080\">│</span>\n",
       "<span style=\"color: #800080; text-decoration-color: #800080\">│</span>                                                                                                                 <span style=\"color: #800080; text-decoration-color: #800080\">│</span>\n",
       "<span style=\"color: #800080; text-decoration-color: #800080\">│</span>  <span style=\"color: #c0c0c0; text-decoration-color: #c0c0c0\">Thought: </span><span style=\"color: #00ff00; text-decoration-color: #00ff00\">Thought: I need to understand the details and context of the image more clearly to create accurate </span>   <span style=\"color: #800080; text-decoration-color: #800080\">│</span>\n",
       "<span style=\"color: #800080; text-decoration-color: #800080\">│</span>  <span style=\"color: #00ff00; text-decoration-color: #00ff00\">and effective user stories.</span>                                                                                    <span style=\"color: #800080; text-decoration-color: #800080\">│</span>\n",
       "<span style=\"color: #800080; text-decoration-color: #800080\">│</span>                                                                                                                 <span style=\"color: #800080; text-decoration-color: #800080\">│</span>\n",
       "<span style=\"color: #800080; text-decoration-color: #800080\">│</span>  <span style=\"color: #c0c0c0; text-decoration-color: #c0c0c0\">Using Tool: </span><span style=\"color: #00ff00; text-decoration-color: #00ff00; font-weight: bold\">Vision Tool</span>                                                                                        <span style=\"color: #800080; text-decoration-color: #800080\">│</span>\n",
       "<span style=\"color: #800080; text-decoration-color: #800080\">│</span>                                                                                                                 <span style=\"color: #800080; text-decoration-color: #800080\">│</span>\n",
       "<span style=\"color: #800080; text-decoration-color: #800080\">╰─────────────────────────────────────────────────────────────────────────────────────────────────────────────────╯</span>\n",
       "</pre>\n"
      ],
      "text/plain": [
       "\u001b[35m╭─\u001b[0m\u001b[35m───────────────────────────────────────────\u001b[0m\u001b[35m 🔧 Agent Tool Execution \u001b[0m\u001b[35m───────────────────────────────────────────\u001b[0m\u001b[35m─╮\u001b[0m\n",
       "\u001b[35m│\u001b[0m                                                                                                                 \u001b[35m│\u001b[0m\n",
       "\u001b[35m│\u001b[0m  \u001b[37mAgent: \u001b[0m\u001b[1;92mProduct Manager\u001b[0m                                                                                         \u001b[35m│\u001b[0m\n",
       "\u001b[35m│\u001b[0m                                                                                                                 \u001b[35m│\u001b[0m\n",
       "\u001b[35m│\u001b[0m  \u001b[37mThought: \u001b[0m\u001b[92mThought: I need to understand the details and context of the image more clearly to create accurate \u001b[0m   \u001b[35m│\u001b[0m\n",
       "\u001b[35m│\u001b[0m  \u001b[92mand effective user stories.\u001b[0m                                                                                    \u001b[35m│\u001b[0m\n",
       "\u001b[35m│\u001b[0m                                                                                                                 \u001b[35m│\u001b[0m\n",
       "\u001b[35m│\u001b[0m  \u001b[37mUsing Tool: \u001b[0m\u001b[1;92mVision Tool\u001b[0m                                                                                        \u001b[35m│\u001b[0m\n",
       "\u001b[35m│\u001b[0m                                                                                                                 \u001b[35m│\u001b[0m\n",
       "\u001b[35m╰─────────────────────────────────────────────────────────────────────────────────────────────────────────────────╯\u001b[0m\n"
      ]
     },
     "metadata": {},
     "output_type": "display_data"
    },
    {
     "data": {
      "text/html": [
       "<pre style=\"white-space:pre;overflow-x:auto;line-height:normal;font-family:Menlo,'DejaVu Sans Mono',consolas,'Courier New',monospace\"><span style=\"color: #000080; text-decoration-color: #000080\">╭────────────────────────────────────────────────── Tool Input ───────────────────────────────────────────────────╮</span>\n",
       "<span style=\"color: #000080; text-decoration-color: #000080\">│</span>                                                                                                                 <span style=\"color: #000080; text-decoration-color: #000080\">│</span>\n",
       "<span style=\"color: #000080; text-decoration-color: #000080\">│</span>  <span style=\"color: #e6db74; text-decoration-color: #e6db74; background-color: #ffffff\">\"{\\\"image_path_url\\\": \\\"image1.png\\\"}\"</span>                                                                         <span style=\"color: #000080; text-decoration-color: #000080\">│</span>\n",
       "<span style=\"color: #000080; text-decoration-color: #000080\">│</span>                                                                                                                 <span style=\"color: #000080; text-decoration-color: #000080\">│</span>\n",
       "<span style=\"color: #000080; text-decoration-color: #000080\">╰─────────────────────────────────────────────────────────────────────────────────────────────────────────────────╯</span>\n",
       "</pre>\n"
      ],
      "text/plain": [
       "\u001b[34m╭─\u001b[0m\u001b[34m─────────────────────────────────────────────────\u001b[0m\u001b[34m Tool Input \u001b[0m\u001b[34m──────────────────────────────────────────────────\u001b[0m\u001b[34m─╮\u001b[0m\n",
       "\u001b[34m│\u001b[0m                                                                                                                 \u001b[34m│\u001b[0m\n",
       "\u001b[34m│\u001b[0m  \u001b[38;2;230;219;116;49m\"{\\\"image_path_url\\\": \\\"image1.png\\\"}\"\u001b[0m                                                                         \u001b[34m│\u001b[0m\n",
       "\u001b[34m│\u001b[0m                                                                                                                 \u001b[34m│\u001b[0m\n",
       "\u001b[34m╰─────────────────────────────────────────────────────────────────────────────────────────────────────────────────╯\u001b[0m\n"
      ]
     },
     "metadata": {},
     "output_type": "display_data"
    },
    {
     "data": {
      "text/html": [
       "<pre style=\"white-space:pre;overflow-x:auto;line-height:normal;font-family:Menlo,'DejaVu Sans Mono',consolas,'Courier New',monospace\"><span style=\"color: #008000; text-decoration-color: #008000\">╭────────────────────────────────────────────────── Tool Output ──────────────────────────────────────────────────╮</span>\n",
       "<span style=\"color: #008000; text-decoration-color: #008000\">│</span>                                                                                                                 <span style=\"color: #008000; text-decoration-color: #008000\">│</span>\n",
       "<span style=\"color: #008000; text-decoration-color: #008000\">│</span>  <span style=\"color: #00ff00; text-decoration-color: #00ff00\">The image appears to be a screenshot of a restaurant management interface, specifically for a service called </span>  <span style=\"color: #008000; text-decoration-color: #008000\">│</span>\n",
       "<span style=\"color: #008000; text-decoration-color: #008000\">│</span>  <span style=\"color: #00ff00; text-decoration-color: #00ff00\">\"Bitte.\" It features sections for setting up themes related to a restaurant named \"Pizza Real.\" The interface</span>  <span style=\"color: #008000; text-decoration-color: #008000\">│</span>\n",
       "<span style=\"color: #008000; text-decoration-color: #008000\">│</span>  <span style=\"color: #00ff00; text-decoration-color: #00ff00\">includes options for entering links to social media platforms (like TikTok, Facebook, Instagram, and YouTube)</span>  <span style=\"color: #008000; text-decoration-color: #008000\">│</span>\n",
       "<span style=\"color: #008000; text-decoration-color: #008000\">│</span>  <span style=\"color: #00ff00; text-decoration-color: #00ff00\">and an area for uploading a cover logo. There's also a section to choose a background color or image, with a </span>  <span style=\"color: #008000; text-decoration-color: #008000\">│</span>\n",
       "<span style=\"color: #008000; text-decoration-color: #008000\">│</span>  <span style=\"color: #00ff00; text-decoration-color: #00ff00\">specific menu background color shown in hex code (#102d50). The layout includes a navigation panel on the </span>     <span style=\"color: #008000; text-decoration-color: #008000\">│</span>\n",
       "<span style=\"color: #008000; text-decoration-color: #008000\">│</span>  <span style=\"color: #00ff00; text-decoration-color: #00ff00\">left for various functionalities such as order management and reservations.</span>                                    <span style=\"color: #008000; text-decoration-color: #008000\">│</span>\n",
       "<span style=\"color: #008000; text-decoration-color: #008000\">│</span>                                                                                                                 <span style=\"color: #008000; text-decoration-color: #008000\">│</span>\n",
       "<span style=\"color: #008000; text-decoration-color: #008000\">╰─────────────────────────────────────────────────────────────────────────────────────────────────────────────────╯</span>\n",
       "</pre>\n"
      ],
      "text/plain": [
       "\u001b[32m╭─\u001b[0m\u001b[32m─────────────────────────────────────────────────\u001b[0m\u001b[32m Tool Output \u001b[0m\u001b[32m─────────────────────────────────────────────────\u001b[0m\u001b[32m─╮\u001b[0m\n",
       "\u001b[32m│\u001b[0m                                                                                                                 \u001b[32m│\u001b[0m\n",
       "\u001b[32m│\u001b[0m  \u001b[92mThe image appears to be a screenshot of a restaurant management interface, specifically for a service called \u001b[0m  \u001b[32m│\u001b[0m\n",
       "\u001b[32m│\u001b[0m  \u001b[92m\"Bitte.\" It features sections for setting up themes related to a restaurant named \"Pizza Real.\" The interface\u001b[0m  \u001b[32m│\u001b[0m\n",
       "\u001b[32m│\u001b[0m  \u001b[92mincludes options for entering links to social media platforms (like TikTok, Facebook, Instagram, and YouTube)\u001b[0m  \u001b[32m│\u001b[0m\n",
       "\u001b[32m│\u001b[0m  \u001b[92mand an area for uploading a cover logo. There's also a section to choose a background color or image, with a \u001b[0m  \u001b[32m│\u001b[0m\n",
       "\u001b[32m│\u001b[0m  \u001b[92mspecific menu background color shown in hex code (#102d50). The layout includes a navigation panel on the \u001b[0m     \u001b[32m│\u001b[0m\n",
       "\u001b[32m│\u001b[0m  \u001b[92mleft for various functionalities such as order management and reservations.\u001b[0m                                    \u001b[32m│\u001b[0m\n",
       "\u001b[32m│\u001b[0m                                                                                                                 \u001b[32m│\u001b[0m\n",
       "\u001b[32m╰─────────────────────────────────────────────────────────────────────────────────────────────────────────────────╯\u001b[0m\n"
      ]
     },
     "metadata": {},
     "output_type": "display_data"
    },
    {
     "data": {
      "text/html": [
       "<pre style=\"white-space:pre;overflow-x:auto;line-height:normal;font-family:Menlo,'DejaVu Sans Mono',consolas,'Courier New',monospace\">\n",
       "</pre>\n"
      ],
      "text/plain": [
       "\n"
      ]
     },
     "metadata": {},
     "output_type": "display_data"
    },
    {
     "data": {
      "text/html": [
       "<pre style=\"white-space:pre;overflow-x:auto;line-height:normal;font-family:Menlo,'DejaVu Sans Mono',consolas,'Courier New',monospace\"><span style=\"color: #008000; text-decoration-color: #008000\">╭───────────────────────────────────────────── ✅ Agent Final Answer ─────────────────────────────────────────────╮</span>\n",
       "<span style=\"color: #008000; text-decoration-color: #008000\">│</span>                                                                                                                 <span style=\"color: #008000; text-decoration-color: #008000\">│</span>\n",
       "<span style=\"color: #008000; text-decoration-color: #008000\">│</span>  <span style=\"color: #c0c0c0; text-decoration-color: #c0c0c0\">Agent: </span><span style=\"color: #00ff00; text-decoration-color: #00ff00; font-weight: bold\">Product Manager</span>                                                                                         <span style=\"color: #008000; text-decoration-color: #008000\">│</span>\n",
       "<span style=\"color: #008000; text-decoration-color: #008000\">│</span>                                                                                                                 <span style=\"color: #008000; text-decoration-color: #008000\">│</span>\n",
       "<span style=\"color: #008000; text-decoration-color: #008000\">│</span>  <span style=\"color: #c0c0c0; text-decoration-color: #c0c0c0\">Final Answer:</span>                                                                                                  <span style=\"color: #008000; text-decoration-color: #008000\">│</span>\n",
       "<span style=\"color: #008000; text-decoration-color: #008000\">│</span>  <span style=\"color: #00ff00; text-decoration-color: #00ff00\">1. **User Story 1: Integrate Real-Time Preview Feature**</span>                                                       <span style=\"color: #008000; text-decoration-color: #008000\">│</span>\n",
       "<span style=\"color: #008000; text-decoration-color: #008000\">│</span>  <span style=\"color: #00ff00; text-decoration-color: #00ff00\">   - As a restaurant manager using the \"Bitte\" interface, I want to have a real-time preview section in the </span>   <span style=\"color: #008000; text-decoration-color: #008000\">│</span>\n",
       "<span style=\"color: #008000; text-decoration-color: #008000\">│</span>  <span style=\"color: #00ff00; text-decoration-color: #00ff00\">customization area, so that I can instantly see the impact of color, logo, and branding changes, ensuring </span>     <span style=\"color: #008000; text-decoration-color: #008000\">│</span>\n",
       "<span style=\"color: #008000; text-decoration-color: #008000\">│</span>  <span style=\"color: #00ff00; text-decoration-color: #00ff00\">that my design choices align with my restaurant's branding and reducing the likelihood of errors.</span>              <span style=\"color: #008000; text-decoration-color: #008000\">│</span>\n",
       "<span style=\"color: #008000; text-decoration-color: #008000\">│</span>  <span style=\"color: #00ff00; text-decoration-color: #00ff00\">   - Priority: High</span>                                                                                            <span style=\"color: #008000; text-decoration-color: #008000\">│</span>\n",
       "<span style=\"color: #008000; text-decoration-color: #008000\">│</span>                                                                                                                 <span style=\"color: #008000; text-decoration-color: #008000\">│</span>\n",
       "<span style=\"color: #008000; text-decoration-color: #008000\">│</span>  <span style=\"color: #00ff00; text-decoration-color: #00ff00\">2. **User Story 2: Enhance User Interface with Visual Cues**</span>                                                   <span style=\"color: #008000; text-decoration-color: #008000\">│</span>\n",
       "<span style=\"color: #008000; text-decoration-color: #008000\">│</span>  <span style=\"color: #00ff00; text-decoration-color: #00ff00\">   - As a restaurant manager, I need visual indicators or tooltips next to the social media link fields and </span>   <span style=\"color: #008000; text-decoration-color: #008000\">│</span>\n",
       "<span style=\"color: #008000; text-decoration-color: #008000\">│</span>  <span style=\"color: #00ff00; text-decoration-color: #00ff00\">color customization sections, so that I can better understand what type of content is expected, enhancing my </span>  <span style=\"color: #008000; text-decoration-color: #008000\">│</span>\n",
       "<span style=\"color: #008000; text-decoration-color: #008000\">│</span>  <span style=\"color: #00ff00; text-decoration-color: #00ff00\">overall user experience and efficiency in customizing the interface.</span>                                           <span style=\"color: #008000; text-decoration-color: #008000\">│</span>\n",
       "<span style=\"color: #008000; text-decoration-color: #008000\">│</span>  <span style=\"color: #00ff00; text-decoration-color: #00ff00\">   - Priority: Medium</span>                                                                                          <span style=\"color: #008000; text-decoration-color: #008000\">│</span>\n",
       "<span style=\"color: #008000; text-decoration-color: #008000\">│</span>                                                                                                                 <span style=\"color: #008000; text-decoration-color: #008000\">│</span>\n",
       "<span style=\"color: #008000; text-decoration-color: #008000\">│</span>  <span style=\"color: #00ff00; text-decoration-color: #00ff00\">3. **User Story 3: Optimize Navigation Panel for Better Accessibility**</span>                                        <span style=\"color: #008000; text-decoration-color: #008000\">│</span>\n",
       "<span style=\"color: #008000; text-decoration-color: #008000\">│</span>  <span style=\"color: #00ff00; text-decoration-color: #00ff00\">   - As a user of the \"Bitte\" restaurant management system, I want the navigation panel to be more intuitive </span>  <span style=\"color: #008000; text-decoration-color: #008000\">│</span>\n",
       "<span style=\"color: #008000; text-decoration-color: #008000\">│</span>  <span style=\"color: #00ff00; text-decoration-color: #00ff00\">and accessible, possibly by grouping similar functionalities and including a search feature, so that I can </span>    <span style=\"color: #008000; text-decoration-color: #008000\">│</span>\n",
       "<span style=\"color: #008000; text-decoration-color: #008000\">│</span>  <span style=\"color: #00ff00; text-decoration-color: #00ff00\">streamline my management tasks and easily find frequently used features.</span>                                       <span style=\"color: #008000; text-decoration-color: #008000\">│</span>\n",
       "<span style=\"color: #008000; text-decoration-color: #008000\">│</span>  <span style=\"color: #00ff00; text-decoration-color: #00ff00\">   - Priority: Low</span>                                                                                             <span style=\"color: #008000; text-decoration-color: #008000\">│</span>\n",
       "<span style=\"color: #008000; text-decoration-color: #008000\">│</span>                                                                                                                 <span style=\"color: #008000; text-decoration-color: #008000\">│</span>\n",
       "<span style=\"color: #008000; text-decoration-color: #008000\">╰─────────────────────────────────────────────────────────────────────────────────────────────────────────────────╯</span>\n",
       "</pre>\n"
      ],
      "text/plain": [
       "\u001b[32m╭─\u001b[0m\u001b[32m────────────────────────────────────────────\u001b[0m\u001b[32m ✅ Agent Final Answer \u001b[0m\u001b[32m────────────────────────────────────────────\u001b[0m\u001b[32m─╮\u001b[0m\n",
       "\u001b[32m│\u001b[0m                                                                                                                 \u001b[32m│\u001b[0m\n",
       "\u001b[32m│\u001b[0m  \u001b[37mAgent: \u001b[0m\u001b[1;92mProduct Manager\u001b[0m                                                                                         \u001b[32m│\u001b[0m\n",
       "\u001b[32m│\u001b[0m                                                                                                                 \u001b[32m│\u001b[0m\n",
       "\u001b[32m│\u001b[0m  \u001b[37mFinal Answer:\u001b[0m                                                                                                  \u001b[32m│\u001b[0m\n",
       "\u001b[32m│\u001b[0m  \u001b[92m1. **User Story 1: Integrate Real-Time Preview Feature**\u001b[0m                                                       \u001b[32m│\u001b[0m\n",
       "\u001b[32m│\u001b[0m  \u001b[92m   - As a restaurant manager using the \"Bitte\" interface, I want to have a real-time preview section in the \u001b[0m   \u001b[32m│\u001b[0m\n",
       "\u001b[32m│\u001b[0m  \u001b[92mcustomization area, so that I can instantly see the impact of color, logo, and branding changes, ensuring \u001b[0m     \u001b[32m│\u001b[0m\n",
       "\u001b[32m│\u001b[0m  \u001b[92mthat my design choices align with my restaurant's branding and reducing the likelihood of errors.\u001b[0m              \u001b[32m│\u001b[0m\n",
       "\u001b[32m│\u001b[0m  \u001b[92m   - Priority: High\u001b[0m                                                                                            \u001b[32m│\u001b[0m\n",
       "\u001b[32m│\u001b[0m                                                                                                                 \u001b[32m│\u001b[0m\n",
       "\u001b[32m│\u001b[0m  \u001b[92m2. **User Story 2: Enhance User Interface with Visual Cues**\u001b[0m                                                   \u001b[32m│\u001b[0m\n",
       "\u001b[32m│\u001b[0m  \u001b[92m   - As a restaurant manager, I need visual indicators or tooltips next to the social media link fields and \u001b[0m   \u001b[32m│\u001b[0m\n",
       "\u001b[32m│\u001b[0m  \u001b[92mcolor customization sections, so that I can better understand what type of content is expected, enhancing my \u001b[0m  \u001b[32m│\u001b[0m\n",
       "\u001b[32m│\u001b[0m  \u001b[92moverall user experience and efficiency in customizing the interface.\u001b[0m                                           \u001b[32m│\u001b[0m\n",
       "\u001b[32m│\u001b[0m  \u001b[92m   - Priority: Medium\u001b[0m                                                                                          \u001b[32m│\u001b[0m\n",
       "\u001b[32m│\u001b[0m                                                                                                                 \u001b[32m│\u001b[0m\n",
       "\u001b[32m│\u001b[0m  \u001b[92m3. **User Story 3: Optimize Navigation Panel for Better Accessibility**\u001b[0m                                        \u001b[32m│\u001b[0m\n",
       "\u001b[32m│\u001b[0m  \u001b[92m   - As a user of the \"Bitte\" restaurant management system, I want the navigation panel to be more intuitive \u001b[0m  \u001b[32m│\u001b[0m\n",
       "\u001b[32m│\u001b[0m  \u001b[92mand accessible, possibly by grouping similar functionalities and including a search feature, so that I can \u001b[0m    \u001b[32m│\u001b[0m\n",
       "\u001b[32m│\u001b[0m  \u001b[92mstreamline my management tasks and easily find frequently used features.\u001b[0m                                       \u001b[32m│\u001b[0m\n",
       "\u001b[32m│\u001b[0m  \u001b[92m   - Priority: Low\u001b[0m                                                                                             \u001b[32m│\u001b[0m\n",
       "\u001b[32m│\u001b[0m                                                                                                                 \u001b[32m│\u001b[0m\n",
       "\u001b[32m╰─────────────────────────────────────────────────────────────────────────────────────────────────────────────────╯\u001b[0m\n"
      ]
     },
     "metadata": {},
     "output_type": "display_data"
    },
    {
     "data": {
      "text/html": [
       "<pre style=\"white-space:pre;overflow-x:auto;line-height:normal;font-family:Menlo,'DejaVu Sans Mono',consolas,'Courier New',monospace\">\n",
       "</pre>\n"
      ],
      "text/plain": [
       "\n"
      ]
     },
     "metadata": {},
     "output_type": "display_data"
    }
   ],
   "source": [
    "# Execute the crew\n",
    "result = ai_team.kickoff()"
   ]
  },
  {
   "cell_type": "code",
   "execution_count": 83,
   "metadata": {
    "colab": {
     "base_uri": "https://localhost:8080/"
    },
    "executionInfo": {
     "elapsed": 7,
     "status": "ok",
     "timestamp": 1754577312309,
     "user": {
      "displayName": "Sebastian Perez",
      "userId": "05076230752993245420"
     },
     "user_tz": 240
    },
    "id": "raLZIl2tusPb",
    "outputId": "15564691-9cb8-4ea8-ae83-ead9bcc97395"
   },
   "outputs": [
    {
     "name": "stdout",
     "output_type": "stream",
     "text": [
      "1. **User Story 1: Integrate Real-Time Preview Feature**\n",
      "   - As a restaurant manager using the \"Bitte\" interface, I want to have a real-time preview section in the customization area, so that I can instantly see the impact of color, logo, and branding changes, ensuring that my design choices align with my restaurant's branding and reducing the likelihood of errors.\n",
      "   - Priority: High\n",
      "\n",
      "2. **User Story 2: Enhance User Interface with Visual Cues**\n",
      "   - As a restaurant manager, I need visual indicators or tooltips next to the social media link fields and color customization sections, so that I can better understand what type of content is expected, enhancing my overall user experience and efficiency in customizing the interface.\n",
      "   - Priority: Medium\n",
      "\n",
      "3. **User Story 3: Optimize Navigation Panel for Better Accessibility**\n",
      "   - As a user of the \"Bitte\" restaurant management system, I want the navigation panel to be more intuitive and accessible, possibly by grouping similar functionalities and including a search feature, so that I can streamline my management tasks and easily find frequently used features.\n",
      "   - Priority: Low\n"
     ]
    }
   ],
   "source": [
    "print(result)"
   ]
  },
  {
   "cell_type": "code",
   "execution_count": 84,
   "metadata": {
    "colab": {
     "base_uri": "https://localhost:8080/"
    },
    "executionInfo": {
     "elapsed": 12,
     "status": "ok",
     "timestamp": 1754577318757,
     "user": {
      "displayName": "Sebastian Perez",
      "userId": "05076230752993245420"
     },
     "user_tz": 240
    },
    "id": "BB5egVyLuvVL",
    "outputId": "a9ef0be7-f9f7-416c-dff1-1ba23d1b1020"
   },
   "outputs": [
    {
     "name": "stdout",
     "output_type": "stream",
     "text": [
      "### Image Describer Agent\n",
      "**Description:**Describe the content of the image.\n",
      "**Output:**\n",
      "´´´\n",
      "The image is a screenshot of a restaurant management interface for a service called \"Bitte,\" which is tailored for managing a restaurant named \"Pizza Real.\" The interface includes several sections designed for customization and branding. There is a section dedicated to setting up social media links, with fields for entering URLs for TikTok, Facebook, Instagram, and YouTube. Additionally, there's an area for uploading a cover logo, which is a key part of the branding process.\n",
      "\n",
      "The interface also allows for color customization, providing options to select a background color or use an image. A specific color is displayed with a hex code (#102d50), likely representing the menu background color for the restaurant theme. This customization feature helps in maintaining a cohesive visual identity for the restaurant.\n",
      "\n",
      "On the left side of the interface, there is a navigation panel that offers various functionalities essential for restaurant operations. These include options for managing orders and handling reservations, suggesting a comprehensive tool intended to streamline restaurant management tasks. The overall layout and options indicate a focus on both aesthetic customization and functional management capabilities.\n"
     ]
    }
   ],
   "source": [
    "# Image describer Agent Output\n",
    "print(f'### Image Describer Agent')\n",
    "print(f'**Description:**{describe_image_task.output.description}')\n",
    "print(f\"**Output:**\\n´´´\\n{describe_image_task.output.raw}\")"
   ]
  },
  {
   "cell_type": "code",
   "execution_count": 85,
   "metadata": {
    "colab": {
     "base_uri": "https://localhost:8080/",
     "height": 868
    },
    "executionInfo": {
     "elapsed": 15,
     "status": "ok",
     "timestamp": 1754577325453,
     "user": {
      "displayName": "Sebastian Perez",
      "userId": "05076230752993245420"
     },
     "user_tz": 240
    },
    "id": "_pvin6OT3klg",
    "outputId": "4028bdc9-c959-4f9f-e625-c323af450c8d"
   },
   "outputs": [
    {
     "data": {
      "text/markdown": [
       "Agent 1: Image describer\n",
       "The image is a screenshot of a restaurant management interface for a service called \"Bitte,\" which is tailored for managing a restaurant named \"Pizza Real.\" The interface includes several sections designed for customization and branding. There is a section dedicated to setting up social media links, with fields for entering URLs for TikTok, Facebook, Instagram, and YouTube. Additionally, there's an area for uploading a cover logo, which is a key part of the branding process.\n",
       "\n",
       "The interface also allows for color customization, providing options to select a background color or use an image. A specific color is displayed with a hex code (#102d50), likely representing the menu background color for the restaurant theme. This customization feature helps in maintaining a cohesive visual identity for the restaurant.\n",
       "\n",
       "On the left side of the interface, there is a navigation panel that offers various functionalities essential for restaurant operations. These include options for managing orders and handling reservations, suggesting a comprehensive tool intended to streamline restaurant management tasks. The overall layout and options indicate a focus on both aesthetic customization and functional management capabilities."
      ],
      "text/plain": [
       "<IPython.core.display.Markdown object>"
      ]
     },
     "metadata": {},
     "output_type": "display_data"
    },
    {
     "data": {
      "text/markdown": [
       "Agent 2: Designer\n",
       "1. Enhance the User Interface with Visual Cues: To improve usability, consider adding visual indicators or tooltips next to the social media link fields and color customization sections. This will guide users in understanding the purpose and ideal content for each field, enhancing the user experience.\n",
       "\n",
       "2. Integrate a Real-Time Preview Feature: Implement a real-time preview section within the interface where users can instantly see changes made to colors, logos, and other branding elements. This could reduce errors and improve satisfaction by allowing users to visualize the impact of their design choices.\n",
       "\n",
       "3. Optimize Navigation Panel for Better Accessibility: Review the navigation panel's design to ensure it is intuitive and accessible. Consider grouping similar functionalities for a more organized layout and incorporating search functionality or shortcuts for frequently accessed features, streamlining the management process."
      ],
      "text/plain": [
       "<IPython.core.display.Markdown object>"
      ]
     },
     "metadata": {},
     "output_type": "display_data"
    },
    {
     "data": {
      "text/markdown": [
       "Agent 3: Product Manager\n",
       "1. **User Story 1: Integrate Real-Time Preview Feature**\n",
       "   - As a restaurant manager using the \"Bitte\" interface, I want to have a real-time preview section in the customization area, so that I can instantly see the impact of color, logo, and branding changes, ensuring that my design choices align with my restaurant's branding and reducing the likelihood of errors.\n",
       "   - Priority: High\n",
       "\n",
       "2. **User Story 2: Enhance User Interface with Visual Cues**\n",
       "   - As a restaurant manager, I need visual indicators or tooltips next to the social media link fields and color customization sections, so that I can better understand what type of content is expected, enhancing my overall user experience and efficiency in customizing the interface.\n",
       "   - Priority: Medium\n",
       "\n",
       "3. **User Story 3: Optimize Navigation Panel for Better Accessibility**\n",
       "   - As a user of the \"Bitte\" restaurant management system, I want the navigation panel to be more intuitive and accessible, possibly by grouping similar functionalities and including a search feature, so that I can streamline my management tasks and easily find frequently used features.\n",
       "   - Priority: Low"
      ],
      "text/plain": [
       "<IPython.core.display.Markdown object>"
      ]
     },
     "metadata": {},
     "output_type": "display_data"
    }
   ],
   "source": [
    "for idx, task_output in enumerate(result.tasks_output):\n",
    "  display(Markdown(f\"Agent {idx + 1}: {task_output.agent}\\n{task_output.raw}\"))"
   ]
  }
 ],
 "metadata": {
  "colab": {
   "authorship_tag": "ABX9TyPKTg9PsMXM8Xce6pbCOGa1",
   "mount_file_id": "1h8G6T1SZR-xvZEyut8BRE7ANnWDHwajn",
   "provenance": []
  },
  "kernelspec": {
   "display_name": "Python 3",
   "name": "python3"
  },
  "language_info": {
   "name": "python"
  }
 },
 "nbformat": 4,
 "nbformat_minor": 0
}
